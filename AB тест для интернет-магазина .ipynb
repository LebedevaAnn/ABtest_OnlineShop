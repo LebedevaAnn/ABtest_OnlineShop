{
 "cells": [
  {
   "cell_type": "markdown",
   "metadata": {},
   "source": [
    "##  Приоритизация гипотез."
   ]
  },
  {
   "cell_type": "code",
   "execution_count": 107,
   "metadata": {},
   "outputs": [],
   "source": [
    "# импортируем необходимые библиотеки\n",
    "import pandas as pd \n",
    "import datetime as dt\n",
    "import scipy.stats as stats\n",
    "import numpy as np\n",
    "import matplotlib.pyplot as plt"
   ]
  },
  {
   "cell_type": "code",
   "execution_count": 108,
   "metadata": {},
   "outputs": [],
   "source": [
    "hypothesis = pd.read_csv('/datasets/hypothesis.csv')\n",
    "orders = pd.read_csv('/datasets/orders.csv')\n",
    "visitors = pd.read_csv('/datasets/visitors.csv')"
   ]
  },
  {
   "cell_type": "code",
   "execution_count": 109,
   "metadata": {},
   "outputs": [
    {
     "data": {
      "text/html": [
       "<div>\n",
       "<style scoped>\n",
       "    .dataframe tbody tr th:only-of-type {\n",
       "        vertical-align: middle;\n",
       "    }\n",
       "\n",
       "    .dataframe tbody tr th {\n",
       "        vertical-align: top;\n",
       "    }\n",
       "\n",
       "    .dataframe thead th {\n",
       "        text-align: right;\n",
       "    }\n",
       "</style>\n",
       "<table border=\"1\" class=\"dataframe\">\n",
       "  <thead>\n",
       "    <tr style=\"text-align: right;\">\n",
       "      <th></th>\n",
       "      <th>Hypothesis</th>\n",
       "      <th>Reach</th>\n",
       "      <th>Impact</th>\n",
       "      <th>Confidence</th>\n",
       "      <th>Efforts</th>\n",
       "    </tr>\n",
       "  </thead>\n",
       "  <tbody>\n",
       "    <tr>\n",
       "      <th>0</th>\n",
       "      <td>Добавить два новых канала привлечения трафика, что позволит привлекать на 30% больше пользователей</td>\n",
       "      <td>3</td>\n",
       "      <td>10</td>\n",
       "      <td>8</td>\n",
       "      <td>6</td>\n",
       "    </tr>\n",
       "    <tr>\n",
       "      <th>1</th>\n",
       "      <td>Запустить собственную службу доставки, что сократит срок доставки заказов</td>\n",
       "      <td>2</td>\n",
       "      <td>5</td>\n",
       "      <td>4</td>\n",
       "      <td>10</td>\n",
       "    </tr>\n",
       "    <tr>\n",
       "      <th>2</th>\n",
       "      <td>Добавить блоки рекомендаций товаров на сайт интернет магазина, чтобы повысить конверсию и средний чек заказа</td>\n",
       "      <td>8</td>\n",
       "      <td>3</td>\n",
       "      <td>7</td>\n",
       "      <td>3</td>\n",
       "    </tr>\n",
       "    <tr>\n",
       "      <th>3</th>\n",
       "      <td>Изменить структура категорий, что увеличит конверсию, т.к. пользователи быстрее найдут нужный товар</td>\n",
       "      <td>8</td>\n",
       "      <td>3</td>\n",
       "      <td>3</td>\n",
       "      <td>8</td>\n",
       "    </tr>\n",
       "    <tr>\n",
       "      <th>4</th>\n",
       "      <td>Изменить цвет фона главной страницы, чтобы увеличить вовлеченность пользователей</td>\n",
       "      <td>3</td>\n",
       "      <td>1</td>\n",
       "      <td>1</td>\n",
       "      <td>1</td>\n",
       "    </tr>\n",
       "    <tr>\n",
       "      <th>5</th>\n",
       "      <td>Добавить страницу отзывов клиентов о магазине, что позволит увеличить количество заказов</td>\n",
       "      <td>3</td>\n",
       "      <td>2</td>\n",
       "      <td>2</td>\n",
       "      <td>3</td>\n",
       "    </tr>\n",
       "    <tr>\n",
       "      <th>6</th>\n",
       "      <td>Показать на главной странице баннеры с актуальными акциями и распродажами, чтобы увеличить конверсию</td>\n",
       "      <td>5</td>\n",
       "      <td>3</td>\n",
       "      <td>8</td>\n",
       "      <td>3</td>\n",
       "    </tr>\n",
       "    <tr>\n",
       "      <th>7</th>\n",
       "      <td>Добавить форму подписки на все основные страницы, чтобы собрать базу клиентов для email-рассылок</td>\n",
       "      <td>10</td>\n",
       "      <td>7</td>\n",
       "      <td>8</td>\n",
       "      <td>5</td>\n",
       "    </tr>\n",
       "    <tr>\n",
       "      <th>8</th>\n",
       "      <td>Запустить акцию, дающую скидку на товар в день рождения</td>\n",
       "      <td>1</td>\n",
       "      <td>9</td>\n",
       "      <td>9</td>\n",
       "      <td>5</td>\n",
       "    </tr>\n",
       "  </tbody>\n",
       "</table>\n",
       "</div>"
      ],
      "text/plain": [
       "                                                                                                     Hypothesis  \\\n",
       "0            Добавить два новых канала привлечения трафика, что позволит привлекать на 30% больше пользователей   \n",
       "1                                     Запустить собственную службу доставки, что сократит срок доставки заказов   \n",
       "2  Добавить блоки рекомендаций товаров на сайт интернет магазина, чтобы повысить конверсию и средний чек заказа   \n",
       "3           Изменить структура категорий, что увеличит конверсию, т.к. пользователи быстрее найдут нужный товар   \n",
       "4                              Изменить цвет фона главной страницы, чтобы увеличить вовлеченность пользователей   \n",
       "5                      Добавить страницу отзывов клиентов о магазине, что позволит увеличить количество заказов   \n",
       "6          Показать на главной странице баннеры с актуальными акциями и распродажами, чтобы увеличить конверсию   \n",
       "7              Добавить форму подписки на все основные страницы, чтобы собрать базу клиентов для email-рассылок   \n",
       "8                                                       Запустить акцию, дающую скидку на товар в день рождения   \n",
       "\n",
       "   Reach  Impact  Confidence  Efforts  \n",
       "0      3      10           8        6  \n",
       "1      2       5           4       10  \n",
       "2      8       3           7        3  \n",
       "3      8       3           3        8  \n",
       "4      3       1           1        1  \n",
       "5      3       2           2        3  \n",
       "6      5       3           8        3  \n",
       "7     10       7           8        5  \n",
       "8      1       9           9        5  "
      ]
     },
     "execution_count": 109,
     "metadata": {},
     "output_type": "execute_result"
    }
   ],
   "source": [
    "hypothesis # изучаем содержимое файла"
   ]
  },
  {
   "cell_type": "code",
   "execution_count": 110,
   "metadata": {},
   "outputs": [],
   "source": [
    " # переименовываем столбцы, чтобы начинались с маленькой буквы\n",
    "hypothesis.columns = ['hypothesis', 'reach', 'impact', 'confidence', 'efforts']"
   ]
  },
  {
   "cell_type": "code",
   "execution_count": 111,
   "metadata": {},
   "outputs": [
    {
     "data": {
      "text/html": [
       "<div>\n",
       "<style scoped>\n",
       "    .dataframe tbody tr th:only-of-type {\n",
       "        vertical-align: middle;\n",
       "    }\n",
       "\n",
       "    .dataframe tbody tr th {\n",
       "        vertical-align: top;\n",
       "    }\n",
       "\n",
       "    .dataframe thead th {\n",
       "        text-align: right;\n",
       "    }\n",
       "</style>\n",
       "<table border=\"1\" class=\"dataframe\">\n",
       "  <thead>\n",
       "    <tr style=\"text-align: right;\">\n",
       "      <th></th>\n",
       "      <th>hypothesis</th>\n",
       "      <th>ICE</th>\n",
       "    </tr>\n",
       "  </thead>\n",
       "  <tbody>\n",
       "    <tr>\n",
       "      <th>8</th>\n",
       "      <td>Запустить акцию, дающую скидку на товар в день рождения</td>\n",
       "      <td>16.20</td>\n",
       "    </tr>\n",
       "    <tr>\n",
       "      <th>0</th>\n",
       "      <td>Добавить два новых канала привлечения трафика, что позволит привлекать на 30% больше пользователей</td>\n",
       "      <td>13.33</td>\n",
       "    </tr>\n",
       "    <tr>\n",
       "      <th>7</th>\n",
       "      <td>Добавить форму подписки на все основные страницы, чтобы собрать базу клиентов для email-рассылок</td>\n",
       "      <td>11.20</td>\n",
       "    </tr>\n",
       "    <tr>\n",
       "      <th>6</th>\n",
       "      <td>Показать на главной странице баннеры с актуальными акциями и распродажами, чтобы увеличить конверсию</td>\n",
       "      <td>8.00</td>\n",
       "    </tr>\n",
       "    <tr>\n",
       "      <th>2</th>\n",
       "      <td>Добавить блоки рекомендаций товаров на сайт интернет магазина, чтобы повысить конверсию и средний чек заказа</td>\n",
       "      <td>7.00</td>\n",
       "    </tr>\n",
       "    <tr>\n",
       "      <th>1</th>\n",
       "      <td>Запустить собственную службу доставки, что сократит срок доставки заказов</td>\n",
       "      <td>2.00</td>\n",
       "    </tr>\n",
       "    <tr>\n",
       "      <th>5</th>\n",
       "      <td>Добавить страницу отзывов клиентов о магазине, что позволит увеличить количество заказов</td>\n",
       "      <td>1.33</td>\n",
       "    </tr>\n",
       "    <tr>\n",
       "      <th>3</th>\n",
       "      <td>Изменить структура категорий, что увеличит конверсию, т.к. пользователи быстрее найдут нужный товар</td>\n",
       "      <td>1.12</td>\n",
       "    </tr>\n",
       "    <tr>\n",
       "      <th>4</th>\n",
       "      <td>Изменить цвет фона главной страницы, чтобы увеличить вовлеченность пользователей</td>\n",
       "      <td>1.00</td>\n",
       "    </tr>\n",
       "  </tbody>\n",
       "</table>\n",
       "</div>"
      ],
      "text/plain": [
       "                                                                                                     hypothesis  \\\n",
       "8                                                       Запустить акцию, дающую скидку на товар в день рождения   \n",
       "0            Добавить два новых канала привлечения трафика, что позволит привлекать на 30% больше пользователей   \n",
       "7              Добавить форму подписки на все основные страницы, чтобы собрать базу клиентов для email-рассылок   \n",
       "6          Показать на главной странице баннеры с актуальными акциями и распродажами, чтобы увеличить конверсию   \n",
       "2  Добавить блоки рекомендаций товаров на сайт интернет магазина, чтобы повысить конверсию и средний чек заказа   \n",
       "1                                     Запустить собственную службу доставки, что сократит срок доставки заказов   \n",
       "5                      Добавить страницу отзывов клиентов о магазине, что позволит увеличить количество заказов   \n",
       "3           Изменить структура категорий, что увеличит конверсию, т.к. пользователи быстрее найдут нужный товар   \n",
       "4                              Изменить цвет фона главной страницы, чтобы увеличить вовлеченность пользователей   \n",
       "\n",
       "     ICE  \n",
       "8  16.20  \n",
       "0  13.33  \n",
       "7  11.20  \n",
       "6   8.00  \n",
       "2   7.00  \n",
       "1   2.00  \n",
       "5   1.33  \n",
       "3   1.12  \n",
       "4   1.00  "
      ]
     },
     "execution_count": 111,
     "metadata": {},
     "output_type": "execute_result"
    }
   ],
   "source": [
    "# добавляем параметр ICE\n",
    "pd.set_option('display.max_colwidth', None) # отображаем тест в ячейуах полностью\n",
    "hypothesis['ICE'] = round(hypothesis['confidence']*hypothesis['impact']/hypothesis['efforts'],2)\n",
    "hypothesis[['hypothesis', 'ICE']].sort_values(by='ICE', ascending=False)\n"
   ]
  },
  {
   "cell_type": "markdown",
   "metadata": {},
   "source": [
    "Наиболее перспективные гипотезы по ICE: 8, 0, 7 :\n",
    "\n",
    "-  8.\tЗапустить акцию, дающую скидку на товар в день рождения\n",
    "-  0.   Добавить два новых канала привлечения трафика, что позволит привлекать на 30% больше пользователей\n",
    "-  7.   Добавить форму подписки на все основные страницы, чтобы собрать базу клиентов для email-рассылок\t"
   ]
  },
  {
   "cell_type": "code",
   "execution_count": 112,
   "metadata": {},
   "outputs": [
    {
     "data": {
      "text/html": [
       "<div>\n",
       "<style scoped>\n",
       "    .dataframe tbody tr th:only-of-type {\n",
       "        vertical-align: middle;\n",
       "    }\n",
       "\n",
       "    .dataframe tbody tr th {\n",
       "        vertical-align: top;\n",
       "    }\n",
       "\n",
       "    .dataframe thead th {\n",
       "        text-align: right;\n",
       "    }\n",
       "</style>\n",
       "<table border=\"1\" class=\"dataframe\">\n",
       "  <thead>\n",
       "    <tr style=\"text-align: right;\">\n",
       "      <th></th>\n",
       "      <th>hypothesis</th>\n",
       "      <th>RICE</th>\n",
       "    </tr>\n",
       "  </thead>\n",
       "  <tbody>\n",
       "    <tr>\n",
       "      <th>7</th>\n",
       "      <td>Добавить форму подписки на все основные страницы, чтобы собрать базу клиентов для email-рассылок</td>\n",
       "      <td>112.0</td>\n",
       "    </tr>\n",
       "    <tr>\n",
       "      <th>2</th>\n",
       "      <td>Добавить блоки рекомендаций товаров на сайт интернет магазина, чтобы повысить конверсию и средний чек заказа</td>\n",
       "      <td>56.0</td>\n",
       "    </tr>\n",
       "    <tr>\n",
       "      <th>0</th>\n",
       "      <td>Добавить два новых канала привлечения трафика, что позволит привлекать на 30% больше пользователей</td>\n",
       "      <td>40.0</td>\n",
       "    </tr>\n",
       "    <tr>\n",
       "      <th>6</th>\n",
       "      <td>Показать на главной странице баннеры с актуальными акциями и распродажами, чтобы увеличить конверсию</td>\n",
       "      <td>40.0</td>\n",
       "    </tr>\n",
       "    <tr>\n",
       "      <th>8</th>\n",
       "      <td>Запустить акцию, дающую скидку на товар в день рождения</td>\n",
       "      <td>16.2</td>\n",
       "    </tr>\n",
       "    <tr>\n",
       "      <th>3</th>\n",
       "      <td>Изменить структура категорий, что увеличит конверсию, т.к. пользователи быстрее найдут нужный товар</td>\n",
       "      <td>9.0</td>\n",
       "    </tr>\n",
       "    <tr>\n",
       "      <th>1</th>\n",
       "      <td>Запустить собственную службу доставки, что сократит срок доставки заказов</td>\n",
       "      <td>4.0</td>\n",
       "    </tr>\n",
       "    <tr>\n",
       "      <th>5</th>\n",
       "      <td>Добавить страницу отзывов клиентов о магазине, что позволит увеличить количество заказов</td>\n",
       "      <td>4.0</td>\n",
       "    </tr>\n",
       "    <tr>\n",
       "      <th>4</th>\n",
       "      <td>Изменить цвет фона главной страницы, чтобы увеличить вовлеченность пользователей</td>\n",
       "      <td>3.0</td>\n",
       "    </tr>\n",
       "  </tbody>\n",
       "</table>\n",
       "</div>"
      ],
      "text/plain": [
       "                                                                                                     hypothesis  \\\n",
       "7              Добавить форму подписки на все основные страницы, чтобы собрать базу клиентов для email-рассылок   \n",
       "2  Добавить блоки рекомендаций товаров на сайт интернет магазина, чтобы повысить конверсию и средний чек заказа   \n",
       "0            Добавить два новых канала привлечения трафика, что позволит привлекать на 30% больше пользователей   \n",
       "6          Показать на главной странице баннеры с актуальными акциями и распродажами, чтобы увеличить конверсию   \n",
       "8                                                       Запустить акцию, дающую скидку на товар в день рождения   \n",
       "3           Изменить структура категорий, что увеличит конверсию, т.к. пользователи быстрее найдут нужный товар   \n",
       "1                                     Запустить собственную службу доставки, что сократит срок доставки заказов   \n",
       "5                      Добавить страницу отзывов клиентов о магазине, что позволит увеличить количество заказов   \n",
       "4                              Изменить цвет фона главной страницы, чтобы увеличить вовлеченность пользователей   \n",
       "\n",
       "    RICE  \n",
       "7  112.0  \n",
       "2   56.0  \n",
       "0   40.0  \n",
       "6   40.0  \n",
       "8   16.2  \n",
       "3    9.0  \n",
       "1    4.0  \n",
       "5    4.0  \n",
       "4    3.0  "
      ]
     },
     "execution_count": 112,
     "metadata": {},
     "output_type": "execute_result"
    }
   ],
   "source": [
    "# добавляем параметр RICE\n",
    "hypothesis['RICE'] = (hypothesis['impact']* hypothesis['confidence']*hypothesis['reach'])/hypothesis['efforts']\n",
    "hypothesis[['hypothesis', 'RICE']].sort_values(by='RICE', ascending=False)"
   ]
  },
  {
   "cell_type": "markdown",
   "metadata": {},
   "source": [
    "По RICE наиболее перспективные гипотезы: 7,2,0 :\n",
    "\n",
    "- 7. Добавить форму подписки на все основные страницы, чтобы собрать базу клиентов для email-рассылок\n",
    "- 2. Добавить блоки рекомендаций товаров на сайт интернет магазина, чтобы повысить конверсию и средний чек заказа\n",
    "- 0. Добавить два новых канала привлечения трафика, что позволит привлекать на 30% больше пользователей\t"
   ]
  },
  {
   "cell_type": "markdown",
   "metadata": {},
   "source": [
    "После применения метода RICE гипотезы 0  и 7 остались в первой тройке, на второе место вышла гипотеза 2. Вперед вышли гипотезы 7 и 2 за счет того, что у них довольно высокое значение параметра Reach, по сравнению в другими гипотезами"
   ]
  },
  {
   "cell_type": "markdown",
   "metadata": {},
   "source": [
    "**Вывод по разделу:** \n",
    "    \n",
    "Проанализировав результаты применения методов ICE и RICE, можно заметить, что резутат может значительно отличаться, в зависимости от величины парамера Reach, который показывает, насколько много людей затронет изменение.\n",
    "\n",
    "Для дальнейшего исследования с помощью А/B теста выберем гипотезу 7 \" Добавить форму подписки на все основные страницы, чтобы собрать базу клиентов для email-рассылок\" , так как она попала в топ-3 приоритетные гипотезы по обоим методам ICE и RICE, а также имеет высокое значение параметра Reach"
   ]
  },
  {
   "cell_type": "markdown",
   "metadata": {},
   "source": [
    "##  Часть 2. Анализ A/B-теста"
   ]
  },
  {
   "cell_type": "markdown",
   "metadata": {},
   "source": [
    "Перед началом А/B теста проверим данные на необходимость предобработки"
   ]
  },
  {
   "cell_type": "code",
   "execution_count": 113,
   "metadata": {},
   "outputs": [
    {
     "data": {
      "text/html": [
       "<div>\n",
       "<style scoped>\n",
       "    .dataframe tbody tr th:only-of-type {\n",
       "        vertical-align: middle;\n",
       "    }\n",
       "\n",
       "    .dataframe tbody tr th {\n",
       "        vertical-align: top;\n",
       "    }\n",
       "\n",
       "    .dataframe thead th {\n",
       "        text-align: right;\n",
       "    }\n",
       "</style>\n",
       "<table border=\"1\" class=\"dataframe\">\n",
       "  <thead>\n",
       "    <tr style=\"text-align: right;\">\n",
       "      <th></th>\n",
       "      <th>transactionId</th>\n",
       "      <th>visitorId</th>\n",
       "      <th>date</th>\n",
       "      <th>revenue</th>\n",
       "      <th>group</th>\n",
       "    </tr>\n",
       "  </thead>\n",
       "  <tbody>\n",
       "    <tr>\n",
       "      <th>0</th>\n",
       "      <td>3667963787</td>\n",
       "      <td>3312258926</td>\n",
       "      <td>2019-08-15</td>\n",
       "      <td>1650</td>\n",
       "      <td>B</td>\n",
       "    </tr>\n",
       "    <tr>\n",
       "      <th>1</th>\n",
       "      <td>2804400009</td>\n",
       "      <td>3642806036</td>\n",
       "      <td>2019-08-15</td>\n",
       "      <td>730</td>\n",
       "      <td>B</td>\n",
       "    </tr>\n",
       "    <tr>\n",
       "      <th>2</th>\n",
       "      <td>2961555356</td>\n",
       "      <td>4069496402</td>\n",
       "      <td>2019-08-15</td>\n",
       "      <td>400</td>\n",
       "      <td>A</td>\n",
       "    </tr>\n",
       "    <tr>\n",
       "      <th>3</th>\n",
       "      <td>3797467345</td>\n",
       "      <td>1196621759</td>\n",
       "      <td>2019-08-15</td>\n",
       "      <td>9759</td>\n",
       "      <td>B</td>\n",
       "    </tr>\n",
       "    <tr>\n",
       "      <th>4</th>\n",
       "      <td>2282983706</td>\n",
       "      <td>2322279887</td>\n",
       "      <td>2019-08-15</td>\n",
       "      <td>2308</td>\n",
       "      <td>B</td>\n",
       "    </tr>\n",
       "  </tbody>\n",
       "</table>\n",
       "</div>"
      ],
      "text/plain": [
       "   transactionId   visitorId        date  revenue group\n",
       "0     3667963787  3312258926  2019-08-15     1650     B\n",
       "1     2804400009  3642806036  2019-08-15      730     B\n",
       "2     2961555356  4069496402  2019-08-15      400     A\n",
       "3     3797467345  1196621759  2019-08-15     9759     B\n",
       "4     2282983706  2322279887  2019-08-15     2308     B"
      ]
     },
     "execution_count": 113,
     "metadata": {},
     "output_type": "execute_result"
    }
   ],
   "source": [
    "orders.head() # изучаем данные"
   ]
  },
  {
   "cell_type": "code",
   "execution_count": 114,
   "metadata": {},
   "outputs": [
    {
     "data": {
      "text/html": [
       "<div>\n",
       "<style scoped>\n",
       "    .dataframe tbody tr th:only-of-type {\n",
       "        vertical-align: middle;\n",
       "    }\n",
       "\n",
       "    .dataframe tbody tr th {\n",
       "        vertical-align: top;\n",
       "    }\n",
       "\n",
       "    .dataframe thead th {\n",
       "        text-align: right;\n",
       "    }\n",
       "</style>\n",
       "<table border=\"1\" class=\"dataframe\">\n",
       "  <thead>\n",
       "    <tr style=\"text-align: right;\">\n",
       "      <th></th>\n",
       "      <th>date</th>\n",
       "      <th>group</th>\n",
       "      <th>visitors</th>\n",
       "    </tr>\n",
       "  </thead>\n",
       "  <tbody>\n",
       "    <tr>\n",
       "      <th>0</th>\n",
       "      <td>2019-08-01</td>\n",
       "      <td>A</td>\n",
       "      <td>719</td>\n",
       "    </tr>\n",
       "    <tr>\n",
       "      <th>1</th>\n",
       "      <td>2019-08-02</td>\n",
       "      <td>A</td>\n",
       "      <td>619</td>\n",
       "    </tr>\n",
       "    <tr>\n",
       "      <th>2</th>\n",
       "      <td>2019-08-03</td>\n",
       "      <td>A</td>\n",
       "      <td>507</td>\n",
       "    </tr>\n",
       "    <tr>\n",
       "      <th>3</th>\n",
       "      <td>2019-08-04</td>\n",
       "      <td>A</td>\n",
       "      <td>717</td>\n",
       "    </tr>\n",
       "    <tr>\n",
       "      <th>4</th>\n",
       "      <td>2019-08-05</td>\n",
       "      <td>A</td>\n",
       "      <td>756</td>\n",
       "    </tr>\n",
       "  </tbody>\n",
       "</table>\n",
       "</div>"
      ],
      "text/plain": [
       "         date group  visitors\n",
       "0  2019-08-01     A       719\n",
       "1  2019-08-02     A       619\n",
       "2  2019-08-03     A       507\n",
       "3  2019-08-04     A       717\n",
       "4  2019-08-05     A       756"
      ]
     },
     "execution_count": 114,
     "metadata": {},
     "output_type": "execute_result"
    }
   ],
   "source": [
    "visitors.head()"
   ]
  },
  {
   "cell_type": "markdown",
   "metadata": {},
   "source": [
    "Далее проверим наличие пропущенных значений и дубликатов в каждом файле"
   ]
  },
  {
   "cell_type": "code",
   "execution_count": 115,
   "metadata": {},
   "outputs": [
    {
     "data": {
      "text/plain": [
       "transactionId    0\n",
       "visitorId        0\n",
       "date             0\n",
       "revenue          0\n",
       "group            0\n",
       "dtype: int64"
      ]
     },
     "execution_count": 115,
     "metadata": {},
     "output_type": "execute_result"
    }
   ],
   "source": [
    "orders.isna().sum() "
   ]
  },
  {
   "cell_type": "code",
   "execution_count": 116,
   "metadata": {},
   "outputs": [
    {
     "data": {
      "text/plain": [
       "date        0\n",
       "group       0\n",
       "visitors    0\n",
       "dtype: int64"
      ]
     },
     "execution_count": 116,
     "metadata": {},
     "output_type": "execute_result"
    }
   ],
   "source": [
    "visitors.isna().sum()"
   ]
  },
  {
   "cell_type": "code",
   "execution_count": 117,
   "metadata": {},
   "outputs": [
    {
     "name": "stdout",
     "output_type": "stream",
     "text": [
      "0\n",
      "0\n"
     ]
    }
   ],
   "source": [
    "print(orders.duplicated().sum())\n",
    "print(visitors.duplicated().sum())"
   ]
  },
  {
   "cell_type": "markdown",
   "metadata": {},
   "source": [
    "В таблицах нет дубликатов и пропущенных значений. Можно работаться дальше"
   ]
  },
  {
   "cell_type": "code",
   "execution_count": 118,
   "metadata": {},
   "outputs": [
    {
     "name": "stdout",
     "output_type": "stream",
     "text": [
      "<class 'pandas.core.frame.DataFrame'>\n",
      "RangeIndex: 1197 entries, 0 to 1196\n",
      "Data columns (total 5 columns):\n",
      " #   Column         Non-Null Count  Dtype \n",
      "---  ------         --------------  ----- \n",
      " 0   transactionId  1197 non-null   int64 \n",
      " 1   visitorId      1197 non-null   int64 \n",
      " 2   date           1197 non-null   object\n",
      " 3   revenue        1197 non-null   int64 \n",
      " 4   group          1197 non-null   object\n",
      "dtypes: int64(3), object(2)\n",
      "memory usage: 46.9+ KB\n"
     ]
    }
   ],
   "source": [
    "orders.info() # проверяем типы данных"
   ]
  },
  {
   "cell_type": "code",
   "execution_count": 119,
   "metadata": {},
   "outputs": [
    {
     "name": "stdout",
     "output_type": "stream",
     "text": [
      "<class 'pandas.core.frame.DataFrame'>\n",
      "RangeIndex: 62 entries, 0 to 61\n",
      "Data columns (total 3 columns):\n",
      " #   Column    Non-Null Count  Dtype \n",
      "---  ------    --------------  ----- \n",
      " 0   date      62 non-null     object\n",
      " 1   group     62 non-null     object\n",
      " 2   visitors  62 non-null     int64 \n",
      "dtypes: int64(1), object(2)\n",
      "memory usage: 1.6+ KB\n"
     ]
    }
   ],
   "source": [
    "visitors.info()"
   ]
  },
  {
   "cell_type": "code",
   "execution_count": 120,
   "metadata": {},
   "outputs": [
    {
     "name": "stdout",
     "output_type": "stream",
     "text": [
      "['B' 'A']\n",
      "['A' 'B']\n"
     ]
    }
   ],
   "source": [
    "# проверяем количество групп\n",
    "print(orders['group'].unique())\n",
    "print(visitors['group'].unique())"
   ]
  },
  {
   "cell_type": "code",
   "execution_count": 121,
   "metadata": {},
   "outputs": [
    {
     "name": "stdout",
     "output_type": "stream",
     "text": [
      "2019-08-01\n",
      "2019-08-31\n",
      "2019-08-01\n",
      "2019-08-31\n"
     ]
    }
   ],
   "source": [
    "# проверяем дату начала и конца исследования в обеих группах\n",
    "print(orders['date'].min())\n",
    "print(orders['date'].max())\n",
    "print(visitors['date'].min())\n",
    "print(visitors['date'].max())"
   ]
  },
  {
   "cell_type": "code",
   "execution_count": 122,
   "metadata": {},
   "outputs": [
    {
     "name": "stdout",
     "output_type": "stream",
     "text": [
      "503\n",
      "586\n",
      "1031\n"
     ]
    }
   ],
   "source": [
    "# проверяем количество пользователей в обеих группах\n",
    "print(orders[orders['group'] == 'A']['visitorId'].nunique())\n",
    "print(orders[orders['group'] == 'B']['visitorId'].nunique())\n",
    "print(orders['visitorId'].nunique())"
   ]
  },
  {
   "cell_type": "markdown",
   "metadata": {},
   "source": [
    "Сумма уникальных пользователей в группе А и B больше, чем общее число уникальных пользователей, что говорит о том, что некоторые пользователи попали в обе группы"
   ]
  },
  {
   "cell_type": "code",
   "execution_count": 123,
   "metadata": {},
   "outputs": [
    {
     "name": "stdout",
     "output_type": "stream",
     "text": [
      "58\n",
      "0.06\n"
     ]
    }
   ],
   "source": [
    "double_visitor = orders.groupby('visitorId', as_index=False).agg({'group':'nunique'})\n",
    "print(double_visitor[double_visitor['group'] >1 ]['visitorId'].count())\n",
    "print(round(double_visitor[double_visitor['group'] >1 ]['visitorId'].count()/orders['visitorId'].nunique(),2))\n"
   ]
  },
  {
   "cell_type": "markdown",
   "metadata": {},
   "source": [
    "58 из 1031 пользователей попала в обе группы, это примерно 6%. В реальном проекте скорее всего даже такую часть задублированных пользователей пришлось бы исключить из исследования, однако сейчас оставим, но будем иметь в виду, что часть пользователей попала в обе группы"
   ]
  },
  {
   "cell_type": "markdown",
   "metadata": {},
   "source": [
    "### График кумулятивной выручки по группам"
   ]
  },
  {
   "cell_type": "markdown",
   "metadata": {},
   "source": [
    "Создадим таблицы с кумулятивными данными"
   ]
  },
  {
   "cell_type": "code",
   "execution_count": 124,
   "metadata": {},
   "outputs": [],
   "source": [
    "# изменяем тип данных в столбце с датой\n",
    "orders['date'] = orders['date'].map(\n",
    "    lambda x: dt.datetime.strptime(x, '%Y-%m-%d'))\n",
    "\n",
    "visitors['date'] = visitors['date'].map(\n",
    "    lambda x: dt.datetime.strptime(x, '%Y-%m-%d'))\n"
   ]
  },
  {
   "cell_type": "code",
   "execution_count": 125,
   "metadata": {},
   "outputs": [],
   "source": [
    "datesGroups = orders[['date', 'group']].drop_duplicates()\n",
    "\n",
    "ordersAggregated = datesGroups.apply(\n",
    "    lambda x: orders[\n",
    "        np.logical_and(\n",
    "            orders['date'] <= x['date'], orders['group'] == x['group']\n",
    "        )\n",
    "    ].agg(\n",
    "        {\n",
    "            'date': 'max',\n",
    "            'group': 'max',\n",
    "            'transactionId': 'nunique',\n",
    "            'visitorId': 'nunique',\n",
    "            'revenue': 'sum',\n",
    "        }\n",
    "    ),\n",
    "    axis=1,\n",
    ").sort_values(by=['date', 'group'])\n",
    "\n",
    "visitorsAggregated = datesGroups.apply(\n",
    "    lambda x: visitors[\n",
    "        np.logical_and(\n",
    "            visitors['date'] <= x['date'], visitors['group'] == x['group']\n",
    "        )\n",
    "    ].agg({'date': 'max', 'group': 'max', 'visitors': 'sum'}),\n",
    "    axis=1,\n",
    ").sort_values(by=['date', 'group'])\n",
    "\n",
    "cumulativeData = ordersAggregated.merge(\n",
    "    visitorsAggregated, left_on=['date', 'group'], right_on=['date', 'group'])\n",
    "\n",
    "cumulativeData.columns = [\n",
    "    'date',\n",
    "    'group',\n",
    "    'orders',\n",
    "    'buyers',\n",
    "    'revenue',\n",
    "    'visitors',\n",
    "]"
   ]
  },
  {
   "cell_type": "code",
   "execution_count": 126,
   "metadata": {},
   "outputs": [
    {
     "data": {
      "image/png": "[encoded data removed]",
      "text/plain": [
       "<Figure size 720x288 with 1 Axes>"
      ]
     },
     "metadata": {
      "needs_background": "light"
     },
     "output_type": "display_data"
    }
   ],
   "source": [
    "\n",
    "\n",
    "# датафрейм с кумулятивным количеством заказов и кумулятивной выручкой по дням в группе А\n",
    "cumulativeRevenueA = cumulativeData[cumulativeData['group']=='A'][['date','revenue', 'orders', 'visitors']]\n",
    "\n",
    "# датафрейм с кумулятивным количеством заказов и кумулятивной выручкой по дням в группе B\n",
    "cumulativeRevenueB = cumulativeData[cumulativeData['group']=='B'][['date','revenue', 'orders', 'visitors']]\n",
    "\n",
    "from matplotlib.pyplot import figure\n",
    "figure(figsize=(10, 4))\n",
    "\n",
    "# Строим график выручки группы А\n",
    "plt.plot(cumulativeRevenueA['date'], cumulativeRevenueA['revenue'], label='A')\n",
    "\n",
    "# Строим график выручки группы B\n",
    "plt.plot(cumulativeRevenueB['date'], cumulativeRevenueB['revenue'], label='B')\n",
    "\n",
    "plt.legend() \n",
    "\n",
    "plt.title('График кумулятивной выручки')\n",
    "plt.xlabel('Дата')\n",
    "plt.ylabel('Выручка')\n",
    "plt.show()"
   ]
  },
  {
   "cell_type": "markdown",
   "metadata": {},
   "source": [
    "Куммулятивная выручка в группе В на всем промежутке времени выше, чем в группе А, причем  резко выросла в районе 18 августа. \n",
    "\n",
    "Возможные причины скачка:\n",
    "\n",
    "1) В группе В был совершен аномально дорогой заказ  \n",
    "2) В группе В увеличилось среднее количество заказов на пользователя  \n",
    "3) В группе В увеличился средний чек  \n",
    "\n",
    "Какая из причин более вероятна, можно будет узнать, изучив графики среднего чека и среднего количества заказов по группам"
   ]
  },
  {
   "cell_type": "markdown",
   "metadata": {},
   "source": [
    "### График кумулятивного среднего чека по группам"
   ]
  },
  {
   "cell_type": "code",
   "execution_count": 127,
   "metadata": {},
   "outputs": [
    {
     "data": {
      "text/plain": [
       "Text(0, 0.5, 'Средний чек')"
      ]
     },
     "execution_count": 127,
     "metadata": {},
     "output_type": "execute_result"
    },
    {
     "data": {
      "image/png": "[encoded data removed]",
      "text/plain": [
       "<Figure size 720x288 with 1 Axes>"
      ]
     },
     "metadata": {
      "needs_background": "light"
     },
     "output_type": "display_data"
    }
   ],
   "source": [
    "from matplotlib.pyplot import figure\n",
    "figure(figsize=(10, 4))\n",
    "\n",
    "plt.plot(cumulativeRevenueA['date'], cumulativeRevenueA['revenue']/cumulativeRevenueA['orders'], label='A')\n",
    "plt.plot(cumulativeRevenueB['date'], cumulativeRevenueB['revenue']/cumulativeRevenueB['orders'], label='B')\n",
    "plt.legend() \n",
    "plt.title('График кумулятивного среднего чека')\n",
    "plt.xlabel('Дата')\n",
    "plt.ylabel('Средний чек')"
   ]
  },
  {
   "cell_type": "markdown",
   "metadata": {},
   "source": [
    "Предыдущее предположение подтверждается графиком среднего чека по дням - виден явный скачок линии группы Б, что говорит о наличии аномально дорогой покупки в этот период. "
   ]
  },
  {
   "cell_type": "markdown",
   "metadata": {},
   "source": [
    "###  График относительного изменения кумулятивного среднего чека группы B к группе A"
   ]
  },
  {
   "cell_type": "code",
   "execution_count": 128,
   "metadata": {},
   "outputs": [
    {
     "data": {
      "text/plain": [
       "Text(0, 0.5, 'Отношение В к А')"
      ]
     },
     "execution_count": 128,
     "metadata": {},
     "output_type": "execute_result"
    },
    {
     "data": {
      "image/png": "[encoded data removed]",
      "text/plain": [
       "<Figure size 720x288 with 1 Axes>"
      ]
     },
     "metadata": {
      "needs_background": "light"
     },
     "output_type": "display_data"
    }
   ],
   "source": [
    "figure(figsize=(10, 4))\n",
    "\n",
    "# собираем данные в одном датафрейме\n",
    "mergedCumulativeRevenue = cumulativeRevenueA.merge(cumulativeRevenueB, left_on='date', right_on='date', how='left', suffixes=['A', 'B'])\n",
    "\n",
    "# cтроим отношение средних чеков\n",
    "plt.plot(mergedCumulativeRevenue['date'], (mergedCumulativeRevenue['revenueB']/mergedCumulativeRevenue['ordersB'])/(mergedCumulativeRevenue['revenueA']/mergedCumulativeRevenue['ordersA'])-1)\n",
    "\n",
    "# добавляем ось X\n",
    "plt.axhline(y=0, color='black', linestyle='--') \n",
    "\n",
    "plt.title('Относительное изменение кумулятивного среднего чека группы B к группе A')\n",
    "plt.xlabel('Дата')\n",
    "plt.ylabel('Отношение В к А')"
   ]
  },
  {
   "cell_type": "markdown",
   "metadata": {},
   "source": [
    "На графике есть несколько сильных всплесков. Скорее всего, в эти периоды были совершены аномально дорогие заказы"
   ]
  },
  {
   "cell_type": "markdown",
   "metadata": {},
   "source": [
    "###  График кумулятивного среднего количества заказов на посетителя по группам"
   ]
  },
  {
   "cell_type": "code",
   "execution_count": 129,
   "metadata": {},
   "outputs": [
    {
     "data": {
      "text/plain": [
       "Text(0, 0.5, 'Конверсия')"
      ]
     },
     "execution_count": 129,
     "metadata": {},
     "output_type": "execute_result"
    },
    {
     "data": {
      "image/png": "[encoded data removed]",
      "text/plain": [
       "<Figure size 720x288 with 1 Axes>"
      ]
     },
     "metadata": {
      "needs_background": "light"
     },
     "output_type": "display_data"
    }
   ],
   "source": [
    "figure(figsize=(10, 4))\n",
    "\n",
    "# Строим график кумулятивного среднего количества заказов группы А\n",
    "plt.plot(cumulativeRevenueA['date'], cumulativeRevenueA['orders']/ cumulativeRevenueA['visitors'], label='A')\n",
    "\n",
    "# Строим график кумулятивного среднего количества заказов группы B\n",
    "plt.plot(cumulativeRevenueB['date'], cumulativeRevenueB['orders']/ cumulativeRevenueB['visitors'], label='B')\n",
    "\n",
    "plt.legend() \n",
    "\n",
    "\n",
    "plt.title('Кумулятивное среднее количество заказов на посетителя по группам')\n",
    "plt.xlabel('Дата')\n",
    "plt.ylabel('Конверсия')"
   ]
  },
  {
   "cell_type": "markdown",
   "metadata": {},
   "source": [
    "В начале месяца среднее куммулятивное количество заказов на посетителя сильно скачет у обеих групп. Далее значения стабилизируются, среднее количество заказов в группе B выше, чем в группе A"
   ]
  },
  {
   "cell_type": "markdown",
   "metadata": {},
   "source": [
    "### График относительного изменения кумулятивного среднего количества заказов на посетителя группы B к группе A"
   ]
  },
  {
   "cell_type": "code",
   "execution_count": 130,
   "metadata": {},
   "outputs": [
    {
     "data": {
      "text/plain": [
       "Index(['date', 'revenueA', 'ordersA', 'visitorsA', 'revenueB', 'ordersB',\n",
       "       'visitorsB'],\n",
       "      dtype='object')"
      ]
     },
     "execution_count": 130,
     "metadata": {},
     "output_type": "execute_result"
    }
   ],
   "source": [
    "mergedCumulativeRevenue.columns"
   ]
  },
  {
   "cell_type": "code",
   "execution_count": 131,
   "metadata": {},
   "outputs": [
    {
     "data": {
      "text/plain": [
       "Text(0, 0.5, 'Конверсия')"
      ]
     },
     "execution_count": 131,
     "metadata": {},
     "output_type": "execute_result"
    },
    {
     "data": {
      "image/png": "[encoded data removed]",
      "text/plain": [
       "<Figure size 720x288 with 1 Axes>"
      ]
     },
     "metadata": {
      "needs_background": "light"
     },
     "output_type": "display_data"
    }
   ],
   "source": [
    "figure(figsize=(10, 4))\n",
    "\n",
    "# cтроим отношение \n",
    "plt.plot(mergedCumulativeRevenue['date'], (mergedCumulativeRevenue['ordersB']/mergedCumulativeRevenue['visitorsB'])/(mergedCumulativeRevenue['ordersA']/mergedCumulativeRevenue['visitorsA'])-1)\n",
    "\n",
    "# добавляем ось X\n",
    "plt.axhline(y=0, color='black', linestyle='--') \n",
    "\n",
    "plt.title('Относительный прирост конверсии группы B относительно группы A')\n",
    "plt.xlabel('Дата')\n",
    "plt.ylabel('Конверсия')"
   ]
  },
  {
   "cell_type": "markdown",
   "metadata": {},
   "source": [
    "График относительного куммулятивного изменения количества заказов на посетителя группы В к группе А относительно стабилен после 9 августа. В начале месяца наблюдается резкий всплеск, потом падение, что может говорить о довольно значительных различиях в количестве заказов на посетителя в начале месяца."
   ]
  },
  {
   "cell_type": "markdown",
   "metadata": {},
   "source": [
    "<div class=\"alert alert-success\">\n",
    "<h2> Комментарий ревьюера 😊<a class=\"tocSkip\"> </h2>\n",
    "\n",
    "Графики построены и интерпретированы верно, молодец)\n",
    "</div>"
   ]
  },
  {
   "cell_type": "markdown",
   "metadata": {},
   "source": [
    "### Точечный график количества заказов по пользователям"
   ]
  },
  {
   "cell_type": "code",
   "execution_count": 132,
   "metadata": {},
   "outputs": [
    {
     "data": {
      "text/plain": [
       "Text(0, 0.5, 'Количество')"
      ]
     },
     "execution_count": 132,
     "metadata": {},
     "output_type": "execute_result"
    },
    {
     "data": {
      "image/png": "[encoded data removed]",
      "text/plain": [
       "<Figure size 432x288 with 1 Axes>"
      ]
     },
     "metadata": {
      "needs_background": "light"
     },
     "output_type": "display_data"
    }
   ],
   "source": [
    "ordersByUsers = (\n",
    "   orders.groupby('visitorId', as_index=False)\n",
    "    .agg({'transactionId': 'nunique'})\n",
    ")\n",
    "\n",
    "ordersByUsers.columns = ['visitorId', 'orders']\n",
    "x_values = pd.Series(range(0,len(ordersByUsers)))\n",
    "\n",
    "plt.scatter(x_values, ordersByUsers['orders'])\n",
    "plt.title('Количество заказов на покупателя')\n",
    "plt.xlabel('Индекс покупателя')\n",
    "plt.ylabel('Количество')\n"
   ]
  },
  {
   "cell_type": "markdown",
   "metadata": {},
   "source": [
    "Большая часть пользователей совершала одну или две покупки. Но также есть немало пользователей количеством покупок от 3 до 5. Выше пяти покупок можно считать аномальным значением"
   ]
  },
  {
   "cell_type": "markdown",
   "metadata": {},
   "source": [
    "###  95-й и 99-й перцентили количества заказов на пользователя"
   ]
  },
  {
   "cell_type": "code",
   "execution_count": 133,
   "metadata": {},
   "outputs": [
    {
     "name": "stdout",
     "output_type": "stream",
     "text": [
      "[2. 4.]\n"
     ]
    }
   ],
   "source": [
    "# считаем 95 и 99 перцентили\n",
    "print(np.percentile(ordersByUsers['orders'], [95, 99]))"
   ]
  },
  {
   "cell_type": "markdown",
   "metadata": {},
   "source": [
    "У 5% пользователей покупок больше, чем 2, и у 1% больше четырех покупок. Значит можно отсеять заказы, которых больше 4х на пользователя"
   ]
  },
  {
   "cell_type": "markdown",
   "metadata": {},
   "source": [
    "### Точечный график стоимостей заказов"
   ]
  },
  {
   "cell_type": "code",
   "execution_count": 134,
   "metadata": {},
   "outputs": [
    {
     "data": {
      "text/plain": [
       "<matplotlib.collections.PathCollection at 0x7fc1c3e81370>"
      ]
     },
     "execution_count": 134,
     "metadata": {},
     "output_type": "execute_result"
    },
    {
     "data": {
      "image/png": "[encoded data removed]",
      "text/plain": [
       "<Figure size 432x288 with 1 Axes>"
      ]
     },
     "metadata": {
      "needs_background": "light"
     },
     "output_type": "display_data"
    }
   ],
   "source": [
    "# стоим график стоимостей заказов\n",
    "x_values = pd.Series(range(0,len(orders['revenue'])))\n",
    "plt.scatter(x_values, orders['revenue']) "
   ]
  },
  {
   "cell_type": "markdown",
   "metadata": {},
   "source": [
    "На графике видно, что как правило заказы не превышают 100 000 руб. Есть также выбросы в районе 200 000 и 1 300 000 руб"
   ]
  },
  {
   "cell_type": "code",
   "execution_count": 135,
   "metadata": {},
   "outputs": [
    {
     "data": {
      "text/plain": [
       "Text(0, 0.5, 'Стоимость заказа')"
      ]
     },
     "execution_count": 135,
     "metadata": {},
     "output_type": "execute_result"
    },
    {
     "data": {
      "image/png": "[encoded data removed]",
      "text/plain": [
       "<Figure size 432x288 with 1 Axes>"
      ]
     },
     "metadata": {
      "needs_background": "light"
     },
     "output_type": "display_data"
    }
   ],
   "source": [
    "plt.scatter(x_values, orders['revenue']) \n",
    "plt.ylim([0,100000])\n",
    "\n",
    "plt.title('График стоимостей заказов')\n",
    "plt.ylabel('Стоимость заказа')"
   ]
  },
  {
   "cell_type": "markdown",
   "metadata": {},
   "source": [
    "Теперь по графику отчетливо видно, что большая часть покупок стоят меньше 20тыс рублей"
   ]
  },
  {
   "cell_type": "markdown",
   "metadata": {},
   "source": [
    "### 95-й и 99-й перцентили стоимости заказов"
   ]
  },
  {
   "cell_type": "code",
   "execution_count": 136,
   "metadata": {},
   "outputs": [
    {
     "name": "stdout",
     "output_type": "stream",
     "text": [
      "[28000.  58233.2]\n"
     ]
    }
   ],
   "source": [
    "# считаем 95 и 99 перцентили\n",
    "print(np.percentile(orders['revenue'], [95, 99]))"
   ]
  },
  {
   "cell_type": "markdown",
   "metadata": {},
   "source": [
    "Лишь 5% заказов на сумму больше 28000 руб, и 1% выше 58233.2 руб. Для удобства можно отсекать значения выше 58тыс рублей"
   ]
  },
  {
   "cell_type": "markdown",
   "metadata": {},
   "source": [
    "### Cтатистическая значимость различий в среднем количестве заказов на посетителя между группами по «сырым» данным."
   ]
  },
  {
   "cell_type": "markdown",
   "metadata": {},
   "source": [
    "Подготовим данные для теста Манна-Уитни"
   ]
  },
  {
   "cell_type": "code",
   "execution_count": 137,
   "metadata": {},
   "outputs": [],
   "source": [
    "ordersByUsersA = orders[orders['group']=='A'].groupby('visitorId')['transactionId'].nunique().reset_index()\n",
    "ordersByUsersA.columns=['visitorId','orders']\n",
    "\n",
    "ordersByUsersB = orders[orders['group']=='B'].groupby('visitorId')['transactionId'].nunique().reset_index()\n",
    "ordersByUsersB.columns=['visitorId','orders'] \n",
    "\n",
    "sampleA = pd.concat(\n",
    "    [\n",
    "        ordersByUsersA['orders'],\n",
    "        pd.Series(0, \n",
    "                  index=np.arange\n",
    "                  (visitors[visitors['group']=='A']['visitors'].sum() - len(ordersByUsersA['orders'])\n",
    "                  ),\n",
    "                  name='orders'\n",
    "                 )\n",
    "    ],\n",
    "    axis=0)\n",
    "sampleB = pd.concat(\n",
    "    [\n",
    "        ordersByUsersB['orders'],\n",
    "        pd.Series\n",
    "        (0,\n",
    "         index=np.arange(\n",
    "             visitors[visitors['group']=='B']['visitors'].sum() - len(ordersByUsersB['orders'])\n",
    "         ),\n",
    "         name='orders'\n",
    "        )\n",
    "    ],\n",
    "    axis=0)"
   ]
  },
  {
   "cell_type": "markdown",
   "metadata": {},
   "source": [
    "Зададим нулевую и альтернативную гипотезы:   \n",
    "    \n",
    "**Нулевая гипотеза:** Различий в среднем количестве заказов на посетителя между группами нет  \n",
    "\n",
    "**Альтернативная гипотеза:** Различия в  среднем количестве заказов на посетителя между группами есть"
   ]
  },
  {
   "cell_type": "code",
   "execution_count": 138,
   "metadata": {},
   "outputs": [
    {
     "name": "stdout",
     "output_type": "stream",
     "text": [
      "0.01679\n",
      "0.138\n",
      "Среднее количество заказов на посетителя группы А: 0.02973\n",
      "Среднее количество заказов на посетителя группы B: 0.03383\n"
     ]
    }
   ],
   "source": [
    "\n",
    "print(\"{0:.5f}\".format(stats.mannwhitneyu(sampleA, sampleB)[1]))\n",
    "\n",
    "print(\"{0:.3f}\".format(sampleB.mean()/sampleA.mean()-1))\n",
    "\n",
    "print('Среднее количество заказов на посетителя группы А: {:.4}'.format(sampleA.mean()))\n",
    "print('Среднее количество заказов на посетителя группы B: {:.4}'.format(sampleB.mean())) "
   ]
  },
  {
   "cell_type": "markdown",
   "metadata": {},
   "source": [
    "P-value меньше 0.05, что говорит о различии в среднем количестве заказов на посетителя между группами. Нулевую гипотезу отвергаем. Относительное различие в среднем между группами - 13,8%"
   ]
  },
  {
   "cell_type": "markdown",
   "metadata": {},
   "source": [
    "### Cтатистическая значимость различий в среднем чеке заказа между группами по «сырым» данным"
   ]
  },
  {
   "cell_type": "markdown",
   "metadata": {},
   "source": [
    "**Нулевая гипотеза:** Различий в средних чеках между группами нет\n",
    "\n",
    "**Альтернативная гипотеза:** Различия в средних чеках между группами есть\n"
   ]
  },
  {
   "cell_type": "code",
   "execution_count": 139,
   "metadata": {},
   "outputs": [
    {
     "name": "stdout",
     "output_type": "stream",
     "text": [
      "0.729\n",
      "0.259\n",
      "Средний чек группы А: 7333.58\n",
      "Средний чек группы B: 9230.88\n"
     ]
    }
   ],
   "source": [
    "\n",
    "\n",
    "print('{0:.3f}'.format(stats.mannwhitneyu(orders[orders['group']=='A']['revenue'], orders[orders['group']=='B']['revenue'])[1]))\n",
    "print('{0:.3f}'.format(orders[orders['group']=='B']['revenue'].mean()/orders[orders['group']=='A']['revenue'].mean()-1)) \n",
    "print('Средний чек группы А: {:.2f}'.format(orders[orders['group']=='A']['revenue'].mean()))\n",
    "print('Средний чек группы B: {:.2f}'.format(orders[orders['group']=='B']['revenue'].mean())) "
   ]
  },
  {
   "cell_type": "markdown",
   "metadata": {},
   "source": [
    "P-value больше 0.05, значит между двумя группами нет статистически значимых различий в значениях среднего чека, несмотря на то, что разница суммы среднего чего между двумя группами составляет целых 26%"
   ]
  },
  {
   "cell_type": "markdown",
   "metadata": {},
   "source": [
    "### Cтатистическая значимость различий в среднем количестве заказов на посетителя между группами по «очищенным» данным"
   ]
  },
  {
   "cell_type": "markdown",
   "metadata": {},
   "source": [
    "Ранее мы приняли за аномальные значения: \n",
    "- количество заказов больше 4 \n",
    "- средний чек выше 58000 руб\n",
    "\n",
    "Уберем пользователей с этими значениями из исследования"
   ]
  },
  {
   "cell_type": "code",
   "execution_count": 140,
   "metadata": {},
   "outputs": [
    {
     "name": "stdout",
     "output_type": "stream",
     "text": [
      "1099     148427295\n",
      "949      887908475\n",
      "744      888512513\n",
      "1103    1164614297\n",
      "1136    1307669133\n",
      "Name: visitorId, dtype: int64\n",
      "Кол-во аномальных пользователей:  15\n"
     ]
    }
   ],
   "source": [
    "# готовим данные к очистке от аномальных значений, выявляем пользователей с аномально большим количеством заказов\n",
    "\n",
    "usersWithManyOrders = pd.concat(\n",
    "    [\n",
    "        ordersByUsersA[ordersByUsersA['orders'] > np.percentile(ordersByUsers['orders'], [95, 99])[1]]['visitorId'],\n",
    "        ordersByUsersB[ordersByUsersB['orders'] > np.percentile(ordersByUsers['orders'], [95, 99])[1]]['visitorId'],\n",
    "    ],\n",
    "    axis=0,\n",
    ")\n",
    "usersWithExpensiveOrders = orders[orders['revenue'] >np.percentile(orders['revenue'], [95, 99])[1]]['visitorId']\n",
    "abnormalUsers = (\n",
    "    pd.concat([usersWithManyOrders, usersWithExpensiveOrders], axis=0)\n",
    "    .drop_duplicates()\n",
    "    .sort_values()\n",
    ")\n",
    "print(abnormalUsers.head(5))\n",
    "print('Кол-во аномальных пользователей: ', abnormalUsers.shape[0])"
   ]
  },
  {
   "cell_type": "markdown",
   "metadata": {},
   "source": [
    "Выявлено 15\"аномальных\" пользователей. Удалим их из исследования"
   ]
  },
  {
   "cell_type": "code",
   "execution_count": 141,
   "metadata": {},
   "outputs": [
    {
     "name": "stdout",
     "output_type": "stream",
     "text": [
      "0.014\n",
      "0.153\n",
      "Среднее количество заказов на посетителя группы А: 0.02825\n",
      "Среднее количество заказов на посетителя группы B: 0.03258\n"
     ]
    }
   ],
   "source": [
    "sampleAFiltered = pd.concat(\n",
    "    [\n",
    "        ordersByUsersA[\n",
    "            np.logical_not(ordersByUsersA['visitorId'].isin(abnormalUsers))\n",
    "        ]['orders'],\n",
    "        pd.Series(\n",
    "            0,\n",
    "            index=np.arange(\n",
    "                visitors[visitors['group']=='A']['visitors'].sum()  - len(ordersByUsersA['orders'])\n",
    "            ),\n",
    "            name='orders',\n",
    "        ),\n",
    "    ],\n",
    "    axis=0,\n",
    ")\n",
    "\n",
    "sampleBFiltered = pd.concat(\n",
    "    [\n",
    "        ordersByUsersB[\n",
    "            np.logical_not(ordersByUsersB['visitorId'].isin(abnormalUsers))\n",
    "        ]['orders'],\n",
    "        pd.Series(\n",
    "            0,\n",
    "            index=np.arange(\n",
    "                visitors[visitors['group']=='B']['visitors'].sum()  - len(ordersByUsersB['orders'])\n",
    "            ),\n",
    "            name='orders',\n",
    "        ),\n",
    "    ],\n",
    "    axis=0,\n",
    ") \n",
    "\n",
    "print('{0:.3f}'.format(stats.mannwhitneyu(sampleAFiltered, sampleBFiltered)[1]))\n",
    "print('{0:.3f}'.format(sampleBFiltered.mean()/sampleAFiltered.mean()-1))\n",
    "print('Среднее количество заказов на посетителя группы А: {:.4}'.format(sampleAFiltered.mean()))\n",
    "print('Среднее количество заказов на посетителя группы B: {:.4}'.format(sampleBFiltered.mean())) "
   ]
  },
  {
   "cell_type": "markdown",
   "metadata": {},
   "source": [
    " P-value меньше 0.05 и можно сделать вывод, что у очищенных данных все равно есть статистически значимое различие среднего количества заказов между группами А и B, лидирует группа В"
   ]
  },
  {
   "cell_type": "markdown",
   "metadata": {},
   "source": [
    "### Cтатистическая значимость различий в среднем чеке заказа между группами по «очищенным» данным"
   ]
  },
  {
   "cell_type": "code",
   "execution_count": 142,
   "metadata": {},
   "outputs": [
    {
     "name": "stdout",
     "output_type": "stream",
     "text": [
      "0.851\n",
      "-0.006\n"
     ]
    }
   ],
   "source": [
    "print(\n",
    "    '{0:.3f}'.format(\n",
    "        stats.mannwhitneyu(\n",
    "            orders[\n",
    "                np.logical_and(\n",
    "                    orders['group'] == 'A',\n",
    "                    np.logical_not(orders['visitorId'].isin(abnormalUsers)),\n",
    "                )\n",
    "            ]['revenue'],\n",
    "            orders[\n",
    "                np.logical_and(\n",
    "                    orders['group'] == 'B',\n",
    "                    np.logical_not(orders['visitorId'].isin(abnormalUsers)),\n",
    "                )\n",
    "            ]['revenue'],\n",
    "        )[1]\n",
    "    )\n",
    ")\n",
    "\n",
    "print(\n",
    "    \"{0:.3f}\".format(\n",
    "        orders[\n",
    "            np.logical_and(\n",
    "                orders['group'] == 'B',\n",
    "                np.logical_not(orders['visitorId'].isin(abnormalUsers)),\n",
    "            )\n",
    "        ]['revenue'].mean()\n",
    "        / orders[\n",
    "            np.logical_and(\n",
    "                orders['group'] == 'A',\n",
    "                np.logical_not(orders['visitorId'].isin(abnormalUsers)),\n",
    "            )\n",
    "        ]['revenue'].mean()\n",
    "        - 1\n",
    "    )\n",
    ") \n",
    "\n"
   ]
  },
  {
   "cell_type": "markdown",
   "metadata": {},
   "source": [
    "P-value больше 0.05, значит статистически значимого разниличия в средней сумме чека между группами А и В в очищенных по-прежнему данных нет."
   ]
  },
  {
   "cell_type": "markdown",
   "metadata": {},
   "source": [
    "**Вывод:**\n",
    "\n",
    "После очищения данных от аномальных значений группа В продолжила показывать лучшие результаты по количеству заказов на посетителя, при том, что средний чек у обеих групп был приблизительно одинаков. Можно сделать вывод о победе группы B и остановить исследование"
   ]
  },
  {
   "cell_type": "markdown",
   "metadata": {},
   "source": [
    "**Общий вывод по результатам А/B тестирования:**\n",
    "\n",
    "1) Большая часть пользователей совершала не более 4х покупок на сумму не более 58000 руб  \n",
    "2) Между группами нет статистически значимого различия в среднем чеке ни по сырым, ни по очищенным данным   \n",
    "3) У группы В выше среднее количество заказов на пользователя как по сырым, так и по очищенным данным  \n",
    "4) График куммулятивного среднего количества заказов показывает, что результаты группы А стабильно падают     \n",
    "5) Нужно остановить исследование и признать победу группы В"
   ]
  },
  {
   "cell_type": "code",
   "execution_count": null,
   "metadata": {},
   "outputs": [],
   "source": []
  }
 ],
 "metadata": {
  "ExecuteTimeLog": [
   {
    "duration": 477,
    "start_time": "2023-10-04T11:43:54.762Z"
   },
   {
    "duration": 142,
    "start_time": "2023-10-04T11:49:01.320Z"
   },
   {
    "duration": 10,
    "start_time": "2023-10-04T11:49:36.342Z"
   },
   {
    "duration": 106,
    "start_time": "2023-10-04T11:51:04.727Z"
   },
   {
    "duration": 14,
    "start_time": "2023-10-04T11:51:19.130Z"
   },
   {
    "duration": 3,
    "start_time": "2023-10-04T12:10:02.698Z"
   },
   {
    "duration": 2677,
    "start_time": "2023-10-04T12:10:07.345Z"
   },
   {
    "duration": 4,
    "start_time": "2023-10-04T12:10:49.642Z"
   },
   {
    "duration": 14,
    "start_time": "2023-10-04T12:10:51.680Z"
   },
   {
    "duration": 12,
    "start_time": "2023-10-04T12:17:14.265Z"
   },
   {
    "duration": 261,
    "start_time": "2023-10-04T12:18:52.626Z"
   },
   {
    "duration": 11,
    "start_time": "2023-10-04T12:21:05.807Z"
   },
   {
    "duration": 498,
    "start_time": "2023-10-04T12:45:51.029Z"
   },
   {
    "duration": 11,
    "start_time": "2023-10-04T12:46:14.780Z"
   },
   {
    "duration": 8,
    "start_time": "2023-10-04T12:50:55.107Z"
   },
   {
    "duration": 8,
    "start_time": "2023-10-04T12:52:11.689Z"
   },
   {
    "duration": 7,
    "start_time": "2023-10-04T12:52:28.721Z"
   },
   {
    "duration": 7,
    "start_time": "2023-10-04T12:52:43.139Z"
   },
   {
    "duration": 10,
    "start_time": "2023-10-04T12:53:06.077Z"
   },
   {
    "duration": 20,
    "start_time": "2023-10-04T12:54:33.587Z"
   },
   {
    "duration": 12,
    "start_time": "2023-10-04T12:54:37.092Z"
   },
   {
    "duration": 10,
    "start_time": "2023-10-04T12:54:56.598Z"
   },
   {
    "duration": 86,
    "start_time": "2023-10-04T12:55:18.734Z"
   },
   {
    "duration": 306,
    "start_time": "2023-10-04T12:55:22.722Z"
   },
   {
    "duration": 423,
    "start_time": "2023-10-04T12:55:36.447Z"
   },
   {
    "duration": 13,
    "start_time": "2023-10-04T12:55:50.571Z"
   },
   {
    "duration": 710,
    "start_time": "2023-10-04T12:56:15.373Z"
   },
   {
    "duration": 484,
    "start_time": "2023-10-04T12:56:34.646Z"
   },
   {
    "duration": 3,
    "start_time": "2023-10-04T12:56:48.058Z"
   },
   {
    "duration": 445,
    "start_time": "2023-10-04T12:56:48.063Z"
   },
   {
    "duration": 40,
    "start_time": "2023-10-04T12:56:48.510Z"
   },
   {
    "duration": 74,
    "start_time": "2023-10-04T12:56:48.552Z"
   },
   {
    "duration": 524,
    "start_time": "2023-10-04T12:56:48.629Z"
   },
   {
    "duration": 53,
    "start_time": "2023-10-04T12:56:49.154Z"
   },
   {
    "duration": 236,
    "start_time": "2023-10-04T12:56:49.209Z"
   },
   {
    "duration": 117,
    "start_time": "2023-10-04T12:56:49.447Z"
   },
   {
    "duration": 40,
    "start_time": "2023-10-04T12:56:49.566Z"
   },
   {
    "duration": 42,
    "start_time": "2023-10-04T12:56:49.608Z"
   },
   {
    "duration": 30,
    "start_time": "2023-10-04T12:56:49.652Z"
   },
   {
    "duration": 30,
    "start_time": "2023-10-04T12:56:49.684Z"
   },
   {
    "duration": 66,
    "start_time": "2023-10-04T12:56:49.715Z"
   },
   {
    "duration": 62,
    "start_time": "2023-10-04T12:56:49.784Z"
   },
   {
    "duration": 216,
    "start_time": "2023-10-04T12:58:02.444Z"
   },
   {
    "duration": 27,
    "start_time": "2023-10-04T12:58:10.204Z"
   },
   {
    "duration": 289,
    "start_time": "2023-10-04T12:58:47.785Z"
   },
   {
    "duration": 297,
    "start_time": "2023-10-04T12:59:52.676Z"
   },
   {
    "duration": 321,
    "start_time": "2023-10-04T12:59:54.380Z"
   },
   {
    "duration": 14,
    "start_time": "2023-10-04T13:00:15.048Z"
   },
   {
    "duration": 199,
    "start_time": "2023-10-04T13:00:23.927Z"
   },
   {
    "duration": 254,
    "start_time": "2023-10-04T13:04:53.990Z"
   },
   {
    "duration": 186,
    "start_time": "2023-10-04T13:05:55.447Z"
   },
   {
    "duration": 213,
    "start_time": "2023-10-04T13:06:00.501Z"
   },
   {
    "duration": 187,
    "start_time": "2023-10-04T13:06:09.021Z"
   },
   {
    "duration": 221,
    "start_time": "2023-10-04T13:06:37.582Z"
   },
   {
    "duration": 183,
    "start_time": "2023-10-04T13:07:25.723Z"
   },
   {
    "duration": 385,
    "start_time": "2023-10-04T13:38:01.667Z"
   },
   {
    "duration": 267,
    "start_time": "2023-10-04T13:40:33.326Z"
   },
   {
    "duration": 1732,
    "start_time": "2023-10-04T14:21:45.699Z"
   },
   {
    "duration": 157,
    "start_time": "2023-10-04T14:22:00.542Z"
   },
   {
    "duration": 194,
    "start_time": "2023-10-04T14:23:16.948Z"
   },
   {
    "duration": 1565,
    "start_time": "2023-10-04T14:32:32.163Z"
   },
   {
    "duration": 271,
    "start_time": "2023-10-04T14:33:33.241Z"
   },
   {
    "duration": 247,
    "start_time": "2023-10-04T14:33:39.083Z"
   },
   {
    "duration": 8,
    "start_time": "2023-10-04T14:39:04.043Z"
   },
   {
    "duration": 5,
    "start_time": "2023-10-04T14:39:10.042Z"
   },
   {
    "duration": 307,
    "start_time": "2023-10-04T14:39:29.011Z"
   },
   {
    "duration": 5,
    "start_time": "2023-10-04T14:39:32.150Z"
   },
   {
    "duration": 322,
    "start_time": "2023-10-04T14:40:14.592Z"
   },
   {
    "duration": 267,
    "start_time": "2023-10-04T14:40:30.948Z"
   },
   {
    "duration": 867,
    "start_time": "2023-10-05T09:17:19.573Z"
   },
   {
    "duration": 187,
    "start_time": "2023-10-05T09:17:20.442Z"
   },
   {
    "duration": 12,
    "start_time": "2023-10-05T09:17:20.631Z"
   },
   {
    "duration": 143,
    "start_time": "2023-10-05T09:17:20.645Z"
   },
   {
    "duration": 90,
    "start_time": "2023-10-05T09:17:20.790Z"
   },
   {
    "duration": 62,
    "start_time": "2023-10-05T09:17:20.882Z"
   },
   {
    "duration": 58,
    "start_time": "2023-10-05T09:17:20.946Z"
   },
   {
    "duration": 58,
    "start_time": "2023-10-05T09:17:21.006Z"
   },
   {
    "duration": 51,
    "start_time": "2023-10-05T09:17:21.066Z"
   },
   {
    "duration": 67,
    "start_time": "2023-10-05T09:17:21.118Z"
   },
   {
    "duration": 62,
    "start_time": "2023-10-05T09:17:21.187Z"
   },
   {
    "duration": 51,
    "start_time": "2023-10-05T09:17:21.251Z"
   },
   {
    "duration": 71,
    "start_time": "2023-10-05T09:17:21.303Z"
   },
   {
    "duration": 177,
    "start_time": "2023-10-05T09:17:21.376Z"
   },
   {
    "duration": 379,
    "start_time": "2023-10-05T09:17:21.555Z"
   },
   {
    "duration": 272,
    "start_time": "2023-10-05T09:17:21.936Z"
   },
   {
    "duration": 314,
    "start_time": "2023-10-05T09:17:22.210Z"
   },
   {
    "duration": 523,
    "start_time": "2023-10-05T09:17:22.526Z"
   },
   {
    "duration": 263,
    "start_time": "2023-10-05T09:17:23.050Z"
   },
   {
    "duration": 11,
    "start_time": "2023-10-05T09:17:23.315Z"
   },
   {
    "duration": 482,
    "start_time": "2023-10-05T09:17:23.328Z"
   },
   {
    "duration": 79,
    "start_time": "2023-10-05T09:17:23.812Z"
   },
   {
    "duration": 1716,
    "start_time": "2023-10-05T11:33:02.291Z"
   },
   {
    "duration": 125,
    "start_time": "2023-10-05T11:33:23.254Z"
   },
   {
    "duration": 10,
    "start_time": "2023-10-05T11:33:38.782Z"
   },
   {
    "duration": 19,
    "start_time": "2023-10-05T11:34:20.421Z"
   },
   {
    "duration": 14,
    "start_time": "2023-10-05T11:34:46.218Z"
   },
   {
    "duration": 120,
    "start_time": "2023-10-05T11:34:52.308Z"
   },
   {
    "duration": 4,
    "start_time": "2023-10-05T11:37:45.244Z"
   },
   {
    "duration": 12,
    "start_time": "2023-10-05T11:44:00.321Z"
   },
   {
    "duration": 190,
    "start_time": "2023-10-05T11:44:15.795Z"
   },
   {
    "duration": 4,
    "start_time": "2023-10-05T11:48:18.153Z"
   },
   {
    "duration": 119,
    "start_time": "2023-10-05T11:57:10.371Z"
   },
   {
    "duration": 112,
    "start_time": "2023-10-05T12:19:06.119Z"
   },
   {
    "duration": 138,
    "start_time": "2023-10-05T12:20:32.905Z"
   },
   {
    "duration": 270,
    "start_time": "2023-10-05T12:21:05.663Z"
   },
   {
    "duration": 501,
    "start_time": "2023-10-05T12:21:28.235Z"
   },
   {
    "duration": 261,
    "start_time": "2023-10-05T12:21:32.960Z"
   },
   {
    "duration": 10,
    "start_time": "2023-10-05T12:22:59.484Z"
   },
   {
    "duration": 10,
    "start_time": "2023-10-05T12:23:01.785Z"
   },
   {
    "duration": 1204,
    "start_time": "2023-10-05T12:23:35.850Z"
   },
   {
    "duration": 118,
    "start_time": "2023-10-05T12:23:37.056Z"
   },
   {
    "duration": 364,
    "start_time": "2023-10-05T12:23:37.175Z"
   },
   {
    "duration": 51,
    "start_time": "2023-10-05T12:23:37.540Z"
   },
   {
    "duration": 123,
    "start_time": "2023-10-05T12:23:37.594Z"
   },
   {
    "duration": 251,
    "start_time": "2023-10-05T12:23:37.719Z"
   },
   {
    "duration": 142,
    "start_time": "2023-10-05T12:23:37.972Z"
   },
   {
    "duration": 155,
    "start_time": "2023-10-05T12:23:38.116Z"
   },
   {
    "duration": 60,
    "start_time": "2023-10-05T12:23:38.274Z"
   },
   {
    "duration": 46,
    "start_time": "2023-10-05T12:23:38.337Z"
   },
   {
    "duration": 24,
    "start_time": "2023-10-05T12:23:38.385Z"
   },
   {
    "duration": 30,
    "start_time": "2023-10-05T12:23:38.411Z"
   },
   {
    "duration": 28,
    "start_time": "2023-10-05T12:23:38.443Z"
   },
   {
    "duration": 117,
    "start_time": "2023-10-05T12:23:38.473Z"
   },
   {
    "duration": 422,
    "start_time": "2023-10-05T12:23:38.592Z"
   },
   {
    "duration": 285,
    "start_time": "2023-10-05T12:23:39.015Z"
   },
   {
    "duration": 194,
    "start_time": "2023-10-05T12:23:39.301Z"
   },
   {
    "duration": 358,
    "start_time": "2023-10-05T12:23:39.497Z"
   },
   {
    "duration": 204,
    "start_time": "2023-10-05T12:23:39.857Z"
   },
   {
    "duration": 34,
    "start_time": "2023-10-05T12:23:40.063Z"
   },
   {
    "duration": 481,
    "start_time": "2023-10-05T12:23:40.099Z"
   },
   {
    "duration": 152,
    "start_time": "2023-10-05T12:23:40.582Z"
   },
   {
    "duration": 8,
    "start_time": "2023-10-05T12:23:40.735Z"
   },
   {
    "duration": 158,
    "start_time": "2023-10-05T12:23:40.745Z"
   },
   {
    "duration": 5,
    "start_time": "2023-10-05T12:23:40.905Z"
   },
   {
    "duration": 128,
    "start_time": "2023-10-05T12:23:40.912Z"
   },
   {
    "duration": 209,
    "start_time": "2023-10-05T12:30:21.745Z"
   },
   {
    "duration": 199,
    "start_time": "2023-10-05T12:34:20.819Z"
   },
   {
    "duration": 291,
    "start_time": "2023-10-05T12:34:43.661Z"
   },
   {
    "duration": 456,
    "start_time": "2023-10-05T12:36:17.751Z"
   },
   {
    "duration": 478,
    "start_time": "2023-10-05T12:36:47.992Z"
   },
   {
    "duration": 1854,
    "start_time": "2023-10-05T12:58:25.340Z"
   },
   {
    "duration": 2142,
    "start_time": "2023-10-05T13:01:56.847Z"
   },
   {
    "duration": 9,
    "start_time": "2023-10-05T13:02:08.386Z"
   },
   {
    "duration": 9,
    "start_time": "2023-10-05T13:02:25.150Z"
   },
   {
    "duration": 8,
    "start_time": "2023-10-05T13:02:34.054Z"
   },
   {
    "duration": 2312,
    "start_time": "2023-10-05T13:38:43.393Z"
   },
   {
    "duration": 16,
    "start_time": "2023-10-05T13:39:16.178Z"
   },
   {
    "duration": 9,
    "start_time": "2023-10-05T13:41:52.758Z"
   },
   {
    "duration": 29,
    "start_time": "2023-10-05T13:42:16.383Z"
   },
   {
    "duration": 15,
    "start_time": "2023-10-06T15:18:30.317Z"
   },
   {
    "duration": 1069,
    "start_time": "2023-10-06T15:20:34.742Z"
   },
   {
    "duration": 173,
    "start_time": "2023-10-06T15:20:35.814Z"
   },
   {
    "duration": 12,
    "start_time": "2023-10-06T15:20:35.989Z"
   },
   {
    "duration": 208,
    "start_time": "2023-10-06T15:20:36.004Z"
   },
   {
    "duration": 40,
    "start_time": "2023-10-06T15:20:36.214Z"
   },
   {
    "duration": 38,
    "start_time": "2023-10-06T15:20:36.256Z"
   },
   {
    "duration": 51,
    "start_time": "2023-10-06T15:20:36.295Z"
   },
   {
    "duration": 37,
    "start_time": "2023-10-06T15:20:36.347Z"
   },
   {
    "duration": 28,
    "start_time": "2023-10-06T15:20:36.385Z"
   },
   {
    "duration": 23,
    "start_time": "2023-10-06T15:20:36.416Z"
   },
   {
    "duration": 47,
    "start_time": "2023-10-06T15:20:36.441Z"
   },
   {
    "duration": 95,
    "start_time": "2023-10-06T15:20:36.490Z"
   },
   {
    "duration": 358,
    "start_time": "2023-10-06T15:20:36.587Z"
   },
   {
    "duration": 299,
    "start_time": "2023-10-06T15:20:36.947Z"
   },
   {
    "duration": 303,
    "start_time": "2023-10-06T15:20:37.248Z"
   },
   {
    "duration": 276,
    "start_time": "2023-10-06T15:20:37.553Z"
   },
   {
    "duration": 207,
    "start_time": "2023-10-06T15:20:37.830Z"
   },
   {
    "duration": 286,
    "start_time": "2023-10-06T15:20:38.038Z"
   },
   {
    "duration": 214,
    "start_time": "2023-10-06T15:20:38.325Z"
   },
   {
    "duration": 6,
    "start_time": "2023-10-06T15:20:38.541Z"
   },
   {
    "duration": 459,
    "start_time": "2023-10-06T15:20:38.549Z"
   },
   {
    "duration": 142,
    "start_time": "2023-10-06T15:20:39.010Z"
   },
   {
    "duration": 67,
    "start_time": "2023-10-06T15:20:39.154Z"
   },
   {
    "duration": 339,
    "start_time": "2023-10-06T15:20:39.222Z"
   },
   {
    "duration": 32,
    "start_time": "2023-10-06T15:20:39.562Z"
   },
   {
    "duration": 457,
    "start_time": "2023-10-06T15:20:39.596Z"
   },
   {
    "duration": 11,
    "start_time": "2023-10-06T15:20:40.055Z"
   },
   {
    "duration": 194,
    "start_time": "2023-10-06T15:20:40.069Z"
   },
   {
    "duration": 112,
    "start_time": "2023-10-06T15:20:40.265Z"
   },
   {
    "duration": 71,
    "start_time": "2023-10-06T15:20:40.379Z"
   },
   {
    "duration": 6,
    "start_time": "2023-10-06T15:29:02.913Z"
   },
   {
    "duration": 12,
    "start_time": "2023-10-06T15:29:21.075Z"
   },
   {
    "duration": 9,
    "start_time": "2023-10-06T15:32:43.267Z"
   },
   {
    "duration": 12,
    "start_time": "2023-10-06T15:32:54.557Z"
   },
   {
    "duration": 86,
    "start_time": "2023-10-06T15:36:53.787Z"
   },
   {
    "duration": 2,
    "start_time": "2023-10-06T15:39:02.213Z"
   },
   {
    "duration": 94,
    "start_time": "2023-10-06T17:24:53.098Z"
   },
   {
    "duration": 178,
    "start_time": "2023-10-06T17:26:18.131Z"
   },
   {
    "duration": 330,
    "start_time": "2023-10-06T17:27:08.548Z"
   },
   {
    "duration": 225,
    "start_time": "2023-10-06T17:29:00.556Z"
   },
   {
    "duration": 314,
    "start_time": "2023-10-06T17:30:34.861Z"
   },
   {
    "duration": 301,
    "start_time": "2023-10-06T17:33:31.509Z"
   },
   {
    "duration": 245,
    "start_time": "2023-10-06T17:35:09.969Z"
   },
   {
    "duration": 318,
    "start_time": "2023-10-06T17:36:18.054Z"
   },
   {
    "duration": 40,
    "start_time": "2023-10-06T17:51:21.298Z"
   },
   {
    "duration": 14,
    "start_time": "2023-10-06T17:57:40.988Z"
   },
   {
    "duration": 14,
    "start_time": "2023-10-06T17:59:21.001Z"
   },
   {
    "duration": 41,
    "start_time": "2023-10-06T18:01:46.710Z"
   },
   {
    "duration": 13,
    "start_time": "2023-10-06T18:06:09.382Z"
   },
   {
    "duration": 38,
    "start_time": "2023-10-06T18:08:36.222Z"
   },
   {
    "duration": 111,
    "start_time": "2023-10-06T18:10:01.391Z"
   },
   {
    "duration": 5,
    "start_time": "2023-10-06T18:10:07.018Z"
   },
   {
    "duration": 6,
    "start_time": "2023-10-06T18:10:14.916Z"
   },
   {
    "duration": 26,
    "start_time": "2023-10-06T18:11:51.089Z"
   },
   {
    "duration": 42,
    "start_time": "2023-10-06T18:12:15.799Z"
   },
   {
    "duration": 31,
    "start_time": "2023-10-06T18:14:11.752Z"
   },
   {
    "duration": 89,
    "start_time": "2023-10-06T18:22:49.726Z"
   },
   {
    "duration": 49,
    "start_time": "2023-10-06T18:40:57.003Z"
   },
   {
    "duration": 26,
    "start_time": "2023-10-06T18:41:14.574Z"
   },
   {
    "duration": 30,
    "start_time": "2023-10-06T18:41:47.267Z"
   },
   {
    "duration": 1210,
    "start_time": "2023-10-06T21:40:31.439Z"
   },
   {
    "duration": 336,
    "start_time": "2023-10-06T21:40:32.651Z"
   },
   {
    "duration": 13,
    "start_time": "2023-10-06T21:40:32.989Z"
   },
   {
    "duration": 34,
    "start_time": "2023-10-06T21:40:33.004Z"
   },
   {
    "duration": 66,
    "start_time": "2023-10-06T21:40:33.040Z"
   },
   {
    "duration": 37,
    "start_time": "2023-10-06T21:40:33.108Z"
   },
   {
    "duration": 30,
    "start_time": "2023-10-06T21:40:33.147Z"
   },
   {
    "duration": 19,
    "start_time": "2023-10-06T21:40:33.179Z"
   },
   {
    "duration": 29,
    "start_time": "2023-10-06T21:40:33.200Z"
   },
   {
    "duration": 24,
    "start_time": "2023-10-06T21:40:33.232Z"
   },
   {
    "duration": 20,
    "start_time": "2023-10-06T21:40:33.258Z"
   },
   {
    "duration": 55,
    "start_time": "2023-10-06T21:40:33.279Z"
   },
   {
    "duration": 39,
    "start_time": "2023-10-06T21:40:33.337Z"
   },
   {
    "duration": 25,
    "start_time": "2023-10-06T21:40:33.378Z"
   },
   {
    "duration": 301,
    "start_time": "2023-10-06T21:40:33.405Z"
   },
   {
    "duration": 291,
    "start_time": "2023-10-06T21:40:33.708Z"
   },
   {
    "duration": 217,
    "start_time": "2023-10-06T21:40:34.000Z"
   },
   {
    "duration": 351,
    "start_time": "2023-10-06T21:40:34.219Z"
   },
   {
    "duration": 253,
    "start_time": "2023-10-06T21:40:34.572Z"
   },
   {
    "duration": 4,
    "start_time": "2023-10-06T21:40:34.827Z"
   },
   {
    "duration": 333,
    "start_time": "2023-10-06T21:40:34.833Z"
   },
   {
    "duration": 142,
    "start_time": "2023-10-06T21:40:35.167Z"
   },
   {
    "duration": 4,
    "start_time": "2023-10-06T21:40:35.311Z"
   },
   {
    "duration": 161,
    "start_time": "2023-10-06T21:40:35.317Z"
   },
   {
    "duration": 4,
    "start_time": "2023-10-06T21:40:35.480Z"
   },
   {
    "duration": 457,
    "start_time": "2023-10-06T21:40:35.486Z"
   },
   {
    "duration": 33,
    "start_time": "2023-10-06T21:40:35.945Z"
   },
   {
    "duration": 18,
    "start_time": "2023-10-06T21:40:35.982Z"
   },
   {
    "duration": 23,
    "start_time": "2023-10-06T21:40:36.002Z"
   },
   {
    "duration": 58,
    "start_time": "2023-10-06T21:40:36.027Z"
   },
   {
    "duration": 19,
    "start_time": "2023-10-06T21:40:36.087Z"
   },
   {
    "duration": 84,
    "start_time": "2023-10-07T15:13:05.668Z"
   },
   {
    "duration": 38,
    "start_time": "2023-10-07T15:24:05.970Z"
   },
   {
    "duration": 1068,
    "start_time": "2023-10-07T15:24:10.612Z"
   },
   {
    "duration": 250,
    "start_time": "2023-10-07T15:24:11.685Z"
   },
   {
    "duration": 44,
    "start_time": "2023-10-07T15:24:11.936Z"
   },
   {
    "duration": 2,
    "start_time": "2023-10-07T15:24:11.982Z"
   },
   {
    "duration": 18,
    "start_time": "2023-10-07T15:24:11.985Z"
   },
   {
    "duration": 12,
    "start_time": "2023-10-07T15:24:12.004Z"
   },
   {
    "duration": 12,
    "start_time": "2023-10-07T15:24:12.017Z"
   },
   {
    "duration": 7,
    "start_time": "2023-10-07T15:24:12.030Z"
   },
   {
    "duration": 38,
    "start_time": "2023-10-07T15:24:12.038Z"
   },
   {
    "duration": 16,
    "start_time": "2023-10-07T15:24:12.078Z"
   },
   {
    "duration": 22,
    "start_time": "2023-10-07T15:24:12.095Z"
   },
   {
    "duration": 8,
    "start_time": "2023-10-07T15:24:12.118Z"
   },
   {
    "duration": 7,
    "start_time": "2023-10-07T15:24:12.127Z"
   },
   {
    "duration": 32,
    "start_time": "2023-10-07T15:24:12.135Z"
   },
   {
    "duration": 242,
    "start_time": "2023-10-07T15:24:12.177Z"
   },
   {
    "duration": 293,
    "start_time": "2023-10-07T15:24:12.421Z"
   },
   {
    "duration": 180,
    "start_time": "2023-10-07T15:24:12.715Z"
   },
   {
    "duration": 286,
    "start_time": "2023-10-07T15:24:12.896Z"
   },
   {
    "duration": 182,
    "start_time": "2023-10-07T15:24:13.183Z"
   },
   {
    "duration": 10,
    "start_time": "2023-10-07T15:24:13.372Z"
   },
   {
    "duration": 233,
    "start_time": "2023-10-07T15:24:13.383Z"
   },
   {
    "duration": 119,
    "start_time": "2023-10-07T15:24:13.617Z"
   },
   {
    "duration": 20,
    "start_time": "2023-10-07T15:24:13.748Z"
   },
   {
    "duration": 110,
    "start_time": "2023-10-07T15:24:13.773Z"
   },
   {
    "duration": 3,
    "start_time": "2023-10-07T15:24:13.884Z"
   },
   {
    "duration": 367,
    "start_time": "2023-10-07T15:24:13.888Z"
   },
   {
    "duration": 22,
    "start_time": "2023-10-07T15:24:14.268Z"
   },
   {
    "duration": 11,
    "start_time": "2023-10-07T15:24:14.293Z"
   },
   {
    "duration": 14,
    "start_time": "2023-10-07T15:24:14.305Z"
   },
   {
    "duration": 57,
    "start_time": "2023-10-07T15:24:14.321Z"
   },
   {
    "duration": 10,
    "start_time": "2023-10-07T15:24:14.380Z"
   },
   {
    "duration": 84,
    "start_time": "2023-10-07T15:26:10.745Z"
   },
   {
    "duration": 5,
    "start_time": "2023-10-07T15:27:53.872Z"
   },
   {
    "duration": 4,
    "start_time": "2023-10-07T15:28:58.101Z"
   },
   {
    "duration": 50,
    "start_time": "2023-10-07T15:29:49.183Z"
   },
   {
    "duration": 4,
    "start_time": "2023-10-07T15:29:54.779Z"
   },
   {
    "duration": 5,
    "start_time": "2023-10-07T15:30:56.586Z"
   },
   {
    "duration": 5,
    "start_time": "2023-10-07T15:31:21.198Z"
   },
   {
    "duration": 5,
    "start_time": "2023-10-07T15:35:45.004Z"
   },
   {
    "duration": 9,
    "start_time": "2023-10-07T15:37:58.412Z"
   },
   {
    "duration": 8,
    "start_time": "2023-10-07T15:38:51.262Z"
   },
   {
    "duration": 9,
    "start_time": "2023-10-07T15:39:03.658Z"
   },
   {
    "duration": 11,
    "start_time": "2023-10-07T15:39:34.661Z"
   },
   {
    "duration": 12,
    "start_time": "2023-10-07T15:40:37.413Z"
   },
   {
    "duration": 5,
    "start_time": "2023-10-07T15:42:08.381Z"
   },
   {
    "duration": 7,
    "start_time": "2023-10-07T15:42:16.678Z"
   },
   {
    "duration": 6,
    "start_time": "2023-10-07T15:42:39.658Z"
   },
   {
    "duration": 10,
    "start_time": "2023-10-07T15:42:47.208Z"
   },
   {
    "duration": 7,
    "start_time": "2023-10-07T16:45:12.246Z"
   },
   {
    "duration": 6,
    "start_time": "2023-10-07T16:46:02.690Z"
   },
   {
    "duration": 14,
    "start_time": "2023-10-07T16:46:08.580Z"
   },
   {
    "duration": 6,
    "start_time": "2023-10-07T16:47:20.109Z"
   },
   {
    "duration": 15,
    "start_time": "2023-10-07T16:47:24.351Z"
   },
   {
    "duration": 12,
    "start_time": "2023-10-07T16:49:09.681Z"
   },
   {
    "duration": 6,
    "start_time": "2023-10-07T16:49:31.910Z"
   },
   {
    "duration": 8,
    "start_time": "2023-10-07T16:50:02.481Z"
   },
   {
    "duration": 2,
    "start_time": "2023-10-07T16:53:38.224Z"
   },
   {
    "duration": 73,
    "start_time": "2023-10-07T16:53:38.228Z"
   },
   {
    "duration": 6,
    "start_time": "2023-10-07T16:53:38.303Z"
   },
   {
    "duration": 2,
    "start_time": "2023-10-07T16:53:38.310Z"
   },
   {
    "duration": 10,
    "start_time": "2023-10-07T16:53:38.314Z"
   },
   {
    "duration": 12,
    "start_time": "2023-10-07T16:53:38.325Z"
   },
   {
    "duration": 6,
    "start_time": "2023-10-07T16:53:38.338Z"
   },
   {
    "duration": 7,
    "start_time": "2023-10-07T16:53:38.345Z"
   },
   {
    "duration": 4,
    "start_time": "2023-10-07T16:53:38.353Z"
   },
   {
    "duration": 9,
    "start_time": "2023-10-07T16:53:38.358Z"
   },
   {
    "duration": 5,
    "start_time": "2023-10-07T16:53:38.369Z"
   },
   {
    "duration": 8,
    "start_time": "2023-10-07T16:53:38.375Z"
   },
   {
    "duration": 7,
    "start_time": "2023-10-07T16:53:38.384Z"
   },
   {
    "duration": 5,
    "start_time": "2023-10-07T16:53:38.392Z"
   },
   {
    "duration": 4,
    "start_time": "2023-10-07T16:53:38.398Z"
   },
   {
    "duration": 38,
    "start_time": "2023-10-07T16:53:38.403Z"
   },
   {
    "duration": 10,
    "start_time": "2023-10-07T16:53:38.442Z"
   },
   {
    "duration": 14,
    "start_time": "2023-10-07T16:53:38.453Z"
   },
   {
    "duration": 10,
    "start_time": "2023-10-07T16:53:38.469Z"
   },
   {
    "duration": 1558,
    "start_time": "2023-10-07T16:53:38.481Z"
   },
   {
    "duration": 0,
    "start_time": "2023-10-07T16:53:40.040Z"
   },
   {
    "duration": 0,
    "start_time": "2023-10-07T16:53:40.041Z"
   },
   {
    "duration": 0,
    "start_time": "2023-10-07T16:53:40.042Z"
   },
   {
    "duration": 0,
    "start_time": "2023-10-07T16:53:40.043Z"
   },
   {
    "duration": 0,
    "start_time": "2023-10-07T16:53:40.044Z"
   },
   {
    "duration": 0,
    "start_time": "2023-10-07T16:53:40.044Z"
   },
   {
    "duration": 0,
    "start_time": "2023-10-07T16:53:40.045Z"
   },
   {
    "duration": 0,
    "start_time": "2023-10-07T16:53:40.046Z"
   },
   {
    "duration": 0,
    "start_time": "2023-10-07T16:53:40.047Z"
   },
   {
    "duration": 0,
    "start_time": "2023-10-07T16:53:40.048Z"
   },
   {
    "duration": 0,
    "start_time": "2023-10-07T16:53:40.049Z"
   },
   {
    "duration": 0,
    "start_time": "2023-10-07T16:53:40.049Z"
   },
   {
    "duration": 0,
    "start_time": "2023-10-07T16:53:40.050Z"
   },
   {
    "duration": 0,
    "start_time": "2023-10-07T16:53:40.051Z"
   },
   {
    "duration": 0,
    "start_time": "2023-10-07T16:53:40.052Z"
   },
   {
    "duration": 0,
    "start_time": "2023-10-07T16:53:40.053Z"
   },
   {
    "duration": 0,
    "start_time": "2023-10-07T16:53:40.053Z"
   },
   {
    "duration": 0,
    "start_time": "2023-10-07T16:53:40.054Z"
   },
   {
    "duration": 338,
    "start_time": "2023-10-07T16:54:45.848Z"
   },
   {
    "duration": 3,
    "start_time": "2023-10-07T16:54:54.883Z"
   },
   {
    "duration": 79,
    "start_time": "2023-10-07T16:54:54.888Z"
   },
   {
    "duration": 6,
    "start_time": "2023-10-07T16:54:54.969Z"
   },
   {
    "duration": 14,
    "start_time": "2023-10-07T16:54:54.977Z"
   },
   {
    "duration": 14,
    "start_time": "2023-10-07T16:54:54.993Z"
   },
   {
    "duration": 17,
    "start_time": "2023-10-07T16:54:55.008Z"
   },
   {
    "duration": 31,
    "start_time": "2023-10-07T16:54:55.026Z"
   },
   {
    "duration": 25,
    "start_time": "2023-10-07T16:54:55.058Z"
   },
   {
    "duration": 25,
    "start_time": "2023-10-07T16:54:55.085Z"
   },
   {
    "duration": 15,
    "start_time": "2023-10-07T16:54:55.111Z"
   },
   {
    "duration": 4,
    "start_time": "2023-10-07T16:54:55.128Z"
   },
   {
    "duration": 13,
    "start_time": "2023-10-07T16:54:55.133Z"
   },
   {
    "duration": 17,
    "start_time": "2023-10-07T16:54:55.147Z"
   },
   {
    "duration": 6,
    "start_time": "2023-10-07T16:54:55.165Z"
   },
   {
    "duration": 18,
    "start_time": "2023-10-07T16:54:55.172Z"
   },
   {
    "duration": 15,
    "start_time": "2023-10-07T16:54:55.191Z"
   },
   {
    "duration": 29,
    "start_time": "2023-10-07T16:54:55.208Z"
   },
   {
    "duration": 32,
    "start_time": "2023-10-07T16:54:55.238Z"
   },
   {
    "duration": 1671,
    "start_time": "2023-10-07T16:54:55.271Z"
   },
   {
    "duration": 0,
    "start_time": "2023-10-07T16:54:56.944Z"
   },
   {
    "duration": 0,
    "start_time": "2023-10-07T16:54:56.945Z"
   },
   {
    "duration": 0,
    "start_time": "2023-10-07T16:54:56.945Z"
   },
   {
    "duration": 0,
    "start_time": "2023-10-07T16:54:56.946Z"
   },
   {
    "duration": 0,
    "start_time": "2023-10-07T16:54:56.947Z"
   },
   {
    "duration": 0,
    "start_time": "2023-10-07T16:54:56.948Z"
   },
   {
    "duration": 0,
    "start_time": "2023-10-07T16:54:56.949Z"
   },
   {
    "duration": 0,
    "start_time": "2023-10-07T16:54:56.950Z"
   },
   {
    "duration": 0,
    "start_time": "2023-10-07T16:54:56.951Z"
   },
   {
    "duration": 0,
    "start_time": "2023-10-07T16:54:56.952Z"
   },
   {
    "duration": 0,
    "start_time": "2023-10-07T16:54:56.953Z"
   },
   {
    "duration": 0,
    "start_time": "2023-10-07T16:54:56.954Z"
   },
   {
    "duration": 0,
    "start_time": "2023-10-07T16:54:56.955Z"
   },
   {
    "duration": 0,
    "start_time": "2023-10-07T16:54:56.956Z"
   },
   {
    "duration": 0,
    "start_time": "2023-10-07T16:54:56.956Z"
   },
   {
    "duration": 0,
    "start_time": "2023-10-07T16:54:56.957Z"
   },
   {
    "duration": 0,
    "start_time": "2023-10-07T16:54:56.958Z"
   },
   {
    "duration": 0,
    "start_time": "2023-10-07T16:54:56.959Z"
   },
   {
    "duration": 0,
    "start_time": "2023-10-07T16:54:56.959Z"
   },
   {
    "duration": 16,
    "start_time": "2023-10-07T16:55:25.715Z"
   },
   {
    "duration": 6,
    "start_time": "2023-10-07T16:55:29.324Z"
   },
   {
    "duration": 7,
    "start_time": "2023-10-07T16:59:50.289Z"
   },
   {
    "duration": 7,
    "start_time": "2023-10-07T17:00:27.820Z"
   },
   {
    "duration": 8,
    "start_time": "2023-10-07T17:00:31.533Z"
   },
   {
    "duration": 8,
    "start_time": "2023-10-07T17:00:35.773Z"
   },
   {
    "duration": 10,
    "start_time": "2023-10-07T17:00:42.994Z"
   },
   {
    "duration": 3,
    "start_time": "2023-10-07T17:00:55.537Z"
   },
   {
    "duration": 74,
    "start_time": "2023-10-07T17:00:55.544Z"
   },
   {
    "duration": 6,
    "start_time": "2023-10-07T17:00:55.620Z"
   },
   {
    "duration": 5,
    "start_time": "2023-10-07T17:00:55.628Z"
   },
   {
    "duration": 11,
    "start_time": "2023-10-07T17:00:55.635Z"
   },
   {
    "duration": 30,
    "start_time": "2023-10-07T17:00:55.648Z"
   },
   {
    "duration": 45,
    "start_time": "2023-10-07T17:00:55.680Z"
   },
   {
    "duration": 18,
    "start_time": "2023-10-07T17:00:55.726Z"
   },
   {
    "duration": 6,
    "start_time": "2023-10-07T17:00:55.745Z"
   },
   {
    "duration": 7,
    "start_time": "2023-10-07T17:00:55.753Z"
   },
   {
    "duration": 7,
    "start_time": "2023-10-07T17:00:55.761Z"
   },
   {
    "duration": 11,
    "start_time": "2023-10-07T17:00:55.769Z"
   },
   {
    "duration": 17,
    "start_time": "2023-10-07T17:00:55.781Z"
   },
   {
    "duration": 11,
    "start_time": "2023-10-07T17:00:55.800Z"
   },
   {
    "duration": 6,
    "start_time": "2023-10-07T17:00:55.814Z"
   },
   {
    "duration": 7,
    "start_time": "2023-10-07T17:00:55.839Z"
   },
   {
    "duration": 10,
    "start_time": "2023-10-07T17:00:55.847Z"
   },
   {
    "duration": 14,
    "start_time": "2023-10-07T17:00:55.859Z"
   },
   {
    "duration": 15,
    "start_time": "2023-10-07T17:00:55.874Z"
   },
   {
    "duration": 7,
    "start_time": "2023-10-07T17:00:55.890Z"
   },
   {
    "duration": 46,
    "start_time": "2023-10-07T17:00:55.898Z"
   },
   {
    "duration": 245,
    "start_time": "2023-10-07T17:00:55.945Z"
   },
   {
    "duration": 236,
    "start_time": "2023-10-07T17:00:56.192Z"
   },
   {
    "duration": 220,
    "start_time": "2023-10-07T17:00:56.429Z"
   },
   {
    "duration": 262,
    "start_time": "2023-10-07T17:00:56.650Z"
   },
   {
    "duration": 242,
    "start_time": "2023-10-07T17:00:56.914Z"
   },
   {
    "duration": 5,
    "start_time": "2023-10-07T17:00:57.157Z"
   },
   {
    "duration": 266,
    "start_time": "2023-10-07T17:00:57.163Z"
   },
   {
    "duration": 138,
    "start_time": "2023-10-07T17:00:57.430Z"
   },
   {
    "duration": 5,
    "start_time": "2023-10-07T17:00:57.570Z"
   },
   {
    "duration": 132,
    "start_time": "2023-10-07T17:00:57.577Z"
   },
   {
    "duration": 3,
    "start_time": "2023-10-07T17:00:57.711Z"
   },
   {
    "duration": 373,
    "start_time": "2023-10-07T17:00:57.716Z"
   },
   {
    "duration": 23,
    "start_time": "2023-10-07T17:00:58.091Z"
   },
   {
    "duration": 25,
    "start_time": "2023-10-07T17:00:58.117Z"
   },
   {
    "duration": 11,
    "start_time": "2023-10-07T17:00:58.143Z"
   },
   {
    "duration": 25,
    "start_time": "2023-10-07T17:00:58.155Z"
   },
   {
    "duration": 16,
    "start_time": "2023-10-07T17:00:58.182Z"
   },
   {
    "duration": 9,
    "start_time": "2023-10-07T17:01:52.512Z"
   },
   {
    "duration": 10,
    "start_time": "2023-10-07T17:01:57.222Z"
   },
   {
    "duration": 6,
    "start_time": "2023-10-07T17:02:06.213Z"
   },
   {
    "duration": 5,
    "start_time": "2023-10-07T17:02:13.067Z"
   },
   {
    "duration": 8,
    "start_time": "2023-10-07T17:02:35.924Z"
   },
   {
    "duration": 888,
    "start_time": "2023-10-07T17:02:55.701Z"
   },
   {
    "duration": 103,
    "start_time": "2023-10-07T17:02:56.591Z"
   },
   {
    "duration": 9,
    "start_time": "2023-10-07T17:02:56.695Z"
   },
   {
    "duration": 4,
    "start_time": "2023-10-07T17:02:56.705Z"
   },
   {
    "duration": 11,
    "start_time": "2023-10-07T17:02:56.710Z"
   },
   {
    "duration": 11,
    "start_time": "2023-10-07T17:02:56.722Z"
   },
   {
    "duration": 6,
    "start_time": "2023-10-07T17:02:56.734Z"
   },
   {
    "duration": 13,
    "start_time": "2023-10-07T17:02:56.741Z"
   },
   {
    "duration": 5,
    "start_time": "2023-10-07T17:02:56.754Z"
   },
   {
    "duration": 5,
    "start_time": "2023-10-07T17:02:56.761Z"
   },
   {
    "duration": 10,
    "start_time": "2023-10-07T17:02:56.767Z"
   },
   {
    "duration": 9,
    "start_time": "2023-10-07T17:02:56.778Z"
   },
   {
    "duration": 8,
    "start_time": "2023-10-07T17:02:56.788Z"
   },
   {
    "duration": 4,
    "start_time": "2023-10-07T17:02:56.797Z"
   },
   {
    "duration": 6,
    "start_time": "2023-10-07T17:02:56.802Z"
   },
   {
    "duration": 10,
    "start_time": "2023-10-07T17:02:56.809Z"
   },
   {
    "duration": 25,
    "start_time": "2023-10-07T17:02:56.820Z"
   },
   {
    "duration": 78,
    "start_time": "2023-10-07T17:02:56.847Z"
   },
   {
    "duration": 0,
    "start_time": "2023-10-07T17:02:56.927Z"
   },
   {
    "duration": 0,
    "start_time": "2023-10-07T17:02:56.928Z"
   },
   {
    "duration": 0,
    "start_time": "2023-10-07T17:02:56.939Z"
   },
   {
    "duration": 0,
    "start_time": "2023-10-07T17:02:56.940Z"
   },
   {
    "duration": 0,
    "start_time": "2023-10-07T17:02:56.941Z"
   },
   {
    "duration": 0,
    "start_time": "2023-10-07T17:02:56.943Z"
   },
   {
    "duration": 0,
    "start_time": "2023-10-07T17:02:56.944Z"
   },
   {
    "duration": 0,
    "start_time": "2023-10-07T17:02:56.945Z"
   },
   {
    "duration": 0,
    "start_time": "2023-10-07T17:02:56.946Z"
   },
   {
    "duration": 0,
    "start_time": "2023-10-07T17:02:56.947Z"
   },
   {
    "duration": 0,
    "start_time": "2023-10-07T17:02:56.948Z"
   },
   {
    "duration": 0,
    "start_time": "2023-10-07T17:02:56.949Z"
   },
   {
    "duration": 0,
    "start_time": "2023-10-07T17:02:56.950Z"
   },
   {
    "duration": 0,
    "start_time": "2023-10-07T17:02:56.952Z"
   },
   {
    "duration": 0,
    "start_time": "2023-10-07T17:02:56.953Z"
   },
   {
    "duration": 0,
    "start_time": "2023-10-07T17:02:56.954Z"
   },
   {
    "duration": 0,
    "start_time": "2023-10-07T17:02:56.955Z"
   },
   {
    "duration": 0,
    "start_time": "2023-10-07T17:02:56.956Z"
   },
   {
    "duration": 0,
    "start_time": "2023-10-07T17:02:56.957Z"
   },
   {
    "duration": 0,
    "start_time": "2023-10-07T17:02:56.958Z"
   },
   {
    "duration": 7,
    "start_time": "2023-10-07T17:03:50.641Z"
   },
   {
    "duration": 11,
    "start_time": "2023-10-07T17:05:40.043Z"
   },
   {
    "duration": 10,
    "start_time": "2023-10-07T17:06:00.085Z"
   },
   {
    "duration": 3,
    "start_time": "2023-10-07T17:11:17.754Z"
   },
   {
    "duration": 189,
    "start_time": "2023-10-07T17:11:17.759Z"
   },
   {
    "duration": 6,
    "start_time": "2023-10-07T17:11:17.950Z"
   },
   {
    "duration": 15,
    "start_time": "2023-10-07T17:11:17.957Z"
   },
   {
    "duration": 21,
    "start_time": "2023-10-07T17:11:17.974Z"
   },
   {
    "duration": 14,
    "start_time": "2023-10-07T17:11:17.997Z"
   },
   {
    "duration": 19,
    "start_time": "2023-10-07T17:11:18.012Z"
   },
   {
    "duration": 39,
    "start_time": "2023-10-07T17:11:18.032Z"
   },
   {
    "duration": 8,
    "start_time": "2023-10-07T17:11:18.072Z"
   },
   {
    "duration": 13,
    "start_time": "2023-10-07T17:11:18.081Z"
   },
   {
    "duration": 22,
    "start_time": "2023-10-07T17:11:18.096Z"
   },
   {
    "duration": 13,
    "start_time": "2023-10-07T17:11:18.119Z"
   },
   {
    "duration": 18,
    "start_time": "2023-10-07T17:11:18.134Z"
   },
   {
    "duration": 3,
    "start_time": "2023-10-07T17:11:18.154Z"
   },
   {
    "duration": 27,
    "start_time": "2023-10-07T17:11:18.159Z"
   },
   {
    "duration": 8,
    "start_time": "2023-10-07T17:11:18.188Z"
   },
   {
    "duration": 8,
    "start_time": "2023-10-07T17:11:18.197Z"
   },
   {
    "duration": 10,
    "start_time": "2023-10-07T17:11:18.207Z"
   },
   {
    "duration": 250,
    "start_time": "2023-10-07T17:11:18.219Z"
   },
   {
    "duration": 236,
    "start_time": "2023-10-07T17:11:18.471Z"
   },
   {
    "duration": 183,
    "start_time": "2023-10-07T17:11:18.709Z"
   },
   {
    "duration": 264,
    "start_time": "2023-10-07T17:11:18.894Z"
   },
   {
    "duration": 221,
    "start_time": "2023-10-07T17:11:19.159Z"
   },
   {
    "duration": 4,
    "start_time": "2023-10-07T17:11:19.382Z"
   },
   {
    "duration": 244,
    "start_time": "2023-10-07T17:11:19.387Z"
   },
   {
    "duration": 108,
    "start_time": "2023-10-07T17:11:19.639Z"
   },
   {
    "duration": 3,
    "start_time": "2023-10-07T17:11:19.749Z"
   },
   {
    "duration": 126,
    "start_time": "2023-10-07T17:11:19.753Z"
   },
   {
    "duration": 3,
    "start_time": "2023-10-07T17:11:19.882Z"
   },
   {
    "duration": 358,
    "start_time": "2023-10-07T17:11:19.887Z"
   },
   {
    "duration": 21,
    "start_time": "2023-10-07T17:11:20.246Z"
   },
   {
    "duration": 10,
    "start_time": "2023-10-07T17:11:20.268Z"
   },
   {
    "duration": 8,
    "start_time": "2023-10-07T17:11:20.279Z"
   },
   {
    "duration": 27,
    "start_time": "2023-10-07T17:11:20.289Z"
   },
   {
    "duration": 11,
    "start_time": "2023-10-07T17:11:20.340Z"
   },
   {
    "duration": 90,
    "start_time": "2023-10-07T17:18:20.842Z"
   },
   {
    "duration": 95,
    "start_time": "2023-10-07T17:28:09.170Z"
   },
   {
    "duration": 131,
    "start_time": "2023-10-07T17:28:18.906Z"
   },
   {
    "duration": 172,
    "start_time": "2023-10-07T17:30:23.827Z"
   },
   {
    "duration": 90,
    "start_time": "2023-10-07T17:31:01.345Z"
   },
   {
    "duration": 10,
    "start_time": "2023-10-07T17:37:23.989Z"
   },
   {
    "duration": 9,
    "start_time": "2023-10-07T17:40:10.746Z"
   },
   {
    "duration": 89,
    "start_time": "2023-10-07T17:40:57.201Z"
   },
   {
    "duration": 13,
    "start_time": "2023-10-07T18:12:41.065Z"
   },
   {
    "duration": 13,
    "start_time": "2023-10-07T18:13:36.661Z"
   },
   {
    "duration": 14,
    "start_time": "2023-10-07T18:14:20.395Z"
   },
   {
    "duration": 80,
    "start_time": "2023-10-07T18:15:39.178Z"
   },
   {
    "duration": 41,
    "start_time": "2023-10-07T18:16:01.535Z"
   },
   {
    "duration": 29,
    "start_time": "2023-10-07T18:18:28.733Z"
   },
   {
    "duration": 22,
    "start_time": "2023-10-07T18:20:16.981Z"
   },
   {
    "duration": 24,
    "start_time": "2023-10-07T18:20:24.867Z"
   },
   {
    "duration": 3,
    "start_time": "2023-10-07T18:20:33.231Z"
   },
   {
    "duration": 24,
    "start_time": "2023-10-07T18:20:39.604Z"
   },
   {
    "duration": 10,
    "start_time": "2023-10-07T18:20:54.069Z"
   },
   {
    "duration": 1335,
    "start_time": "2023-10-07T18:20:59.358Z"
   },
   {
    "duration": 12,
    "start_time": "2023-10-07T18:21:26.480Z"
   },
   {
    "duration": 9,
    "start_time": "2023-10-07T18:21:43.041Z"
   },
   {
    "duration": 22,
    "start_time": "2023-10-07T18:21:48.206Z"
   },
   {
    "duration": 11,
    "start_time": "2023-10-07T18:21:56.170Z"
   },
   {
    "duration": 958,
    "start_time": "2023-10-07T18:22:36.828Z"
   },
   {
    "duration": 93,
    "start_time": "2023-10-07T18:22:37.788Z"
   },
   {
    "duration": 11,
    "start_time": "2023-10-07T18:22:37.882Z"
   },
   {
    "duration": 2,
    "start_time": "2023-10-07T18:22:37.894Z"
   },
   {
    "duration": 24,
    "start_time": "2023-10-07T18:22:37.898Z"
   },
   {
    "duration": 9,
    "start_time": "2023-10-07T18:22:37.923Z"
   },
   {
    "duration": 9,
    "start_time": "2023-10-07T18:22:37.933Z"
   },
   {
    "duration": 7,
    "start_time": "2023-10-07T18:22:37.943Z"
   },
   {
    "duration": 6,
    "start_time": "2023-10-07T18:22:37.951Z"
   },
   {
    "duration": 4,
    "start_time": "2023-10-07T18:22:37.958Z"
   },
   {
    "duration": 6,
    "start_time": "2023-10-07T18:22:37.963Z"
   },
   {
    "duration": 8,
    "start_time": "2023-10-07T18:22:37.970Z"
   },
   {
    "duration": 8,
    "start_time": "2023-10-07T18:22:37.979Z"
   },
   {
    "duration": 3,
    "start_time": "2023-10-07T18:22:37.989Z"
   },
   {
    "duration": 4,
    "start_time": "2023-10-07T18:22:37.993Z"
   },
   {
    "duration": 44,
    "start_time": "2023-10-07T18:22:37.998Z"
   },
   {
    "duration": 8,
    "start_time": "2023-10-07T18:22:38.043Z"
   },
   {
    "duration": 17,
    "start_time": "2023-10-07T18:22:38.053Z"
   },
   {
    "duration": 256,
    "start_time": "2023-10-07T18:22:38.071Z"
   },
   {
    "duration": 227,
    "start_time": "2023-10-07T18:22:38.329Z"
   },
   {
    "duration": 157,
    "start_time": "2023-10-07T18:22:38.558Z"
   },
   {
    "duration": 286,
    "start_time": "2023-10-07T18:22:38.717Z"
   },
   {
    "duration": 182,
    "start_time": "2023-10-07T18:22:39.004Z"
   },
   {
    "duration": 3,
    "start_time": "2023-10-07T18:22:39.188Z"
   },
   {
    "duration": 254,
    "start_time": "2023-10-07T18:22:39.193Z"
   },
   {
    "duration": 109,
    "start_time": "2023-10-07T18:22:39.449Z"
   },
   {
    "duration": 4,
    "start_time": "2023-10-07T18:22:39.559Z"
   },
   {
    "duration": 119,
    "start_time": "2023-10-07T18:22:39.564Z"
   },
   {
    "duration": 113,
    "start_time": "2023-10-07T18:22:39.685Z"
   },
   {
    "duration": 3,
    "start_time": "2023-10-07T18:22:39.800Z"
   },
   {
    "duration": 99,
    "start_time": "2023-10-07T18:22:39.805Z"
   },
   {
    "duration": 0,
    "start_time": "2023-10-07T18:22:39.906Z"
   },
   {
    "duration": 0,
    "start_time": "2023-10-07T18:22:39.907Z"
   },
   {
    "duration": 0,
    "start_time": "2023-10-07T18:22:39.908Z"
   },
   {
    "duration": 0,
    "start_time": "2023-10-07T18:22:39.910Z"
   },
   {
    "duration": 0,
    "start_time": "2023-10-07T18:22:39.911Z"
   },
   {
    "duration": 10,
    "start_time": "2023-10-07T18:23:28.056Z"
   },
   {
    "duration": 2,
    "start_time": "2023-10-07T18:23:33.469Z"
   },
   {
    "duration": 81,
    "start_time": "2023-10-07T18:23:33.473Z"
   },
   {
    "duration": 7,
    "start_time": "2023-10-07T18:23:33.555Z"
   },
   {
    "duration": 4,
    "start_time": "2023-10-07T18:23:33.563Z"
   },
   {
    "duration": 9,
    "start_time": "2023-10-07T18:23:33.568Z"
   },
   {
    "duration": 9,
    "start_time": "2023-10-07T18:23:33.578Z"
   },
   {
    "duration": 16,
    "start_time": "2023-10-07T18:23:33.589Z"
   },
   {
    "duration": 11,
    "start_time": "2023-10-07T18:23:33.606Z"
   },
   {
    "duration": 6,
    "start_time": "2023-10-07T18:23:33.618Z"
   },
   {
    "duration": 4,
    "start_time": "2023-10-07T18:23:33.640Z"
   },
   {
    "duration": 6,
    "start_time": "2023-10-07T18:23:33.646Z"
   },
   {
    "duration": 8,
    "start_time": "2023-10-07T18:23:33.654Z"
   },
   {
    "duration": 8,
    "start_time": "2023-10-07T18:23:33.663Z"
   },
   {
    "duration": 5,
    "start_time": "2023-10-07T18:23:33.673Z"
   },
   {
    "duration": 7,
    "start_time": "2023-10-07T18:23:33.679Z"
   },
   {
    "duration": 9,
    "start_time": "2023-10-07T18:23:33.687Z"
   },
   {
    "duration": 7,
    "start_time": "2023-10-07T18:23:33.697Z"
   },
   {
    "duration": 41,
    "start_time": "2023-10-07T18:23:33.705Z"
   },
   {
    "duration": 233,
    "start_time": "2023-10-07T18:23:33.747Z"
   },
   {
    "duration": 165,
    "start_time": "2023-10-07T18:23:33.981Z"
   },
   {
    "duration": 201,
    "start_time": "2023-10-07T18:23:34.148Z"
   },
   {
    "duration": 264,
    "start_time": "2023-10-07T18:23:34.351Z"
   },
   {
    "duration": 186,
    "start_time": "2023-10-07T18:23:34.617Z"
   },
   {
    "duration": 4,
    "start_time": "2023-10-07T18:23:34.804Z"
   },
   {
    "duration": 278,
    "start_time": "2023-10-07T18:23:34.809Z"
   },
   {
    "duration": 106,
    "start_time": "2023-10-07T18:23:35.089Z"
   },
   {
    "duration": 4,
    "start_time": "2023-10-07T18:23:35.196Z"
   },
   {
    "duration": 109,
    "start_time": "2023-10-07T18:23:35.202Z"
   },
   {
    "duration": 112,
    "start_time": "2023-10-07T18:23:35.314Z"
   },
   {
    "duration": 14,
    "start_time": "2023-10-07T18:23:35.427Z"
   },
   {
    "duration": 11,
    "start_time": "2023-10-07T18:23:35.442Z"
   },
   {
    "duration": 73,
    "start_time": "2023-10-07T18:23:35.454Z"
   },
   {
    "duration": 10,
    "start_time": "2023-10-07T18:23:35.529Z"
   },
   {
    "duration": 12,
    "start_time": "2023-10-07T18:23:35.540Z"
   },
   {
    "duration": 9,
    "start_time": "2023-10-07T18:23:35.553Z"
   },
   {
    "duration": 0,
    "start_time": "2023-10-07T18:23:35.563Z"
   },
   {
    "duration": 26,
    "start_time": "2023-10-07T18:25:26.152Z"
   },
   {
    "duration": 11,
    "start_time": "2023-10-07T18:25:35.726Z"
   },
   {
    "duration": 3,
    "start_time": "2023-10-07T18:25:40.124Z"
   },
   {
    "duration": 73,
    "start_time": "2023-10-07T18:25:40.157Z"
   },
   {
    "duration": 7,
    "start_time": "2023-10-07T18:25:40.232Z"
   },
   {
    "duration": 8,
    "start_time": "2023-10-07T18:25:40.240Z"
   },
   {
    "duration": 10,
    "start_time": "2023-10-07T18:25:40.249Z"
   },
   {
    "duration": 10,
    "start_time": "2023-10-07T18:25:40.261Z"
   },
   {
    "duration": 7,
    "start_time": "2023-10-07T18:25:40.272Z"
   },
   {
    "duration": 8,
    "start_time": "2023-10-07T18:25:40.281Z"
   },
   {
    "duration": 6,
    "start_time": "2023-10-07T18:25:40.290Z"
   },
   {
    "duration": 7,
    "start_time": "2023-10-07T18:25:40.297Z"
   },
   {
    "duration": 36,
    "start_time": "2023-10-07T18:25:40.305Z"
   },
   {
    "duration": 8,
    "start_time": "2023-10-07T18:25:40.342Z"
   },
   {
    "duration": 12,
    "start_time": "2023-10-07T18:25:40.351Z"
   },
   {
    "duration": 4,
    "start_time": "2023-10-07T18:25:40.364Z"
   },
   {
    "duration": 10,
    "start_time": "2023-10-07T18:25:40.370Z"
   },
   {
    "duration": 28,
    "start_time": "2023-10-07T18:25:40.381Z"
   },
   {
    "duration": 14,
    "start_time": "2023-10-07T18:25:40.410Z"
   },
   {
    "duration": 10,
    "start_time": "2023-10-07T18:25:40.425Z"
   },
   {
    "duration": 252,
    "start_time": "2023-10-07T18:25:40.437Z"
   },
   {
    "duration": 162,
    "start_time": "2023-10-07T18:25:40.690Z"
   },
   {
    "duration": 159,
    "start_time": "2023-10-07T18:25:40.853Z"
   },
   {
    "duration": 297,
    "start_time": "2023-10-07T18:25:41.013Z"
   },
   {
    "duration": 174,
    "start_time": "2023-10-07T18:25:41.311Z"
   },
   {
    "duration": 4,
    "start_time": "2023-10-07T18:25:41.487Z"
   },
   {
    "duration": 293,
    "start_time": "2023-10-07T18:25:41.492Z"
   },
   {
    "duration": 113,
    "start_time": "2023-10-07T18:25:41.786Z"
   },
   {
    "duration": 3,
    "start_time": "2023-10-07T18:25:41.901Z"
   },
   {
    "duration": 163,
    "start_time": "2023-10-07T18:25:41.905Z"
   },
   {
    "duration": 114,
    "start_time": "2023-10-07T18:25:42.069Z"
   },
   {
    "duration": 3,
    "start_time": "2023-10-07T18:25:42.185Z"
   },
   {
    "duration": 14,
    "start_time": "2023-10-07T18:25:42.190Z"
   },
   {
    "duration": 55,
    "start_time": "2023-10-07T18:25:42.205Z"
   },
   {
    "duration": 10,
    "start_time": "2023-10-07T18:25:42.261Z"
   },
   {
    "duration": 11,
    "start_time": "2023-10-07T18:25:42.272Z"
   },
   {
    "duration": 28,
    "start_time": "2023-10-07T18:25:42.284Z"
   },
   {
    "duration": 28,
    "start_time": "2023-10-07T18:25:42.314Z"
   },
   {
    "duration": 154,
    "start_time": "2023-10-07T18:31:59.405Z"
   },
   {
    "duration": 3,
    "start_time": "2023-10-07T18:32:30.963Z"
   },
   {
    "duration": 171,
    "start_time": "2023-10-07T18:32:30.971Z"
   },
   {
    "duration": 6,
    "start_time": "2023-10-07T18:32:31.144Z"
   },
   {
    "duration": 25,
    "start_time": "2023-10-07T18:32:31.152Z"
   },
   {
    "duration": 58,
    "start_time": "2023-10-07T18:32:31.178Z"
   },
   {
    "duration": 47,
    "start_time": "2023-10-07T18:32:31.238Z"
   },
   {
    "duration": 42,
    "start_time": "2023-10-07T18:32:31.286Z"
   },
   {
    "duration": 40,
    "start_time": "2023-10-07T18:32:31.329Z"
   },
   {
    "duration": 47,
    "start_time": "2023-10-07T18:32:31.370Z"
   },
   {
    "duration": 25,
    "start_time": "2023-10-07T18:32:31.418Z"
   },
   {
    "duration": 25,
    "start_time": "2023-10-07T18:32:31.444Z"
   },
   {
    "duration": 33,
    "start_time": "2023-10-07T18:32:31.470Z"
   },
   {
    "duration": 25,
    "start_time": "2023-10-07T18:32:31.504Z"
   },
   {
    "duration": 30,
    "start_time": "2023-10-07T18:32:31.530Z"
   },
   {
    "duration": 14,
    "start_time": "2023-10-07T18:32:31.562Z"
   },
   {
    "duration": 21,
    "start_time": "2023-10-07T18:32:31.577Z"
   },
   {
    "duration": 24,
    "start_time": "2023-10-07T18:32:31.599Z"
   },
   {
    "duration": 24,
    "start_time": "2023-10-07T18:32:31.625Z"
   },
   {
    "duration": 232,
    "start_time": "2023-10-07T18:32:31.650Z"
   },
   {
    "duration": 150,
    "start_time": "2023-10-07T18:32:31.883Z"
   },
   {
    "duration": 175,
    "start_time": "2023-10-07T18:32:32.034Z"
   },
   {
    "duration": 352,
    "start_time": "2023-10-07T18:32:32.211Z"
   },
   {
    "duration": 207,
    "start_time": "2023-10-07T18:32:32.565Z"
   },
   {
    "duration": 4,
    "start_time": "2023-10-07T18:32:32.773Z"
   },
   {
    "duration": 300,
    "start_time": "2023-10-07T18:32:32.778Z"
   },
   {
    "duration": 112,
    "start_time": "2023-10-07T18:32:33.079Z"
   },
   {
    "duration": 4,
    "start_time": "2023-10-07T18:32:33.192Z"
   },
   {
    "duration": 132,
    "start_time": "2023-10-07T18:32:33.197Z"
   },
   {
    "duration": 115,
    "start_time": "2023-10-07T18:32:33.330Z"
   },
   {
    "duration": 3,
    "start_time": "2023-10-07T18:32:33.446Z"
   },
   {
    "duration": 12,
    "start_time": "2023-10-07T18:32:33.450Z"
   },
   {
    "duration": 48,
    "start_time": "2023-10-07T18:32:33.463Z"
   },
   {
    "duration": 22,
    "start_time": "2023-10-07T18:32:33.513Z"
   },
   {
    "duration": 19,
    "start_time": "2023-10-07T18:32:33.536Z"
   },
   {
    "duration": 47,
    "start_time": "2023-10-07T18:32:33.556Z"
   },
   {
    "duration": 15,
    "start_time": "2023-10-07T18:32:33.604Z"
   }
  ],
  "kernelspec": {
   "display_name": "Python 3 (ipykernel)",
   "language": "python",
   "name": "python3"
  },
  "language_info": {
   "codemirror_mode": {
    "name": "ipython",
    "version": 3
   },
   "file_extension": ".py",
   "mimetype": "text/x-python",
   "name": "python",
   "nbconvert_exporter": "python",
   "pygments_lexer": "ipython3",
   "version": "3.10.9"
  },
  "toc": {
   "base_numbering": 1,
   "nav_menu": {},
   "number_sections": true,
   "sideBar": true,
   "skip_h1_title": true,
   "title_cell": "Table of Contents",
   "title_sidebar": "Contents",
   "toc_cell": false,
   "toc_position": {},
   "toc_section_display": true,
   "toc_window_display": false
  }
 },
 "nbformat": 4,
 "nbformat_minor": 2
}
